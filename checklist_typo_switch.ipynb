{
 "cells": [
  {
   "cell_type": "code",
   "execution_count": 1,
   "metadata": {
    "executionInfo": {
     "elapsed": 3556,
     "status": "ok",
     "timestamp": 1607036901691,
     "user": {
      "displayName": "Maelle Cloarec",
      "photoUrl": "",
      "userId": "04556824091212731934"
     },
     "user_tz": -60
    },
    "id": "aZ3I9xXcq9RD"
   },
   "outputs": [],
   "source": [
    "from datetime import datetime\n",
    "import json\n",
    "import requests\n",
    "import numpy as np\n",
    "\n",
    "import checklist\n",
    "from checklist.expect import Expect\n",
    "from checklist.test_types import MFT, INV, DIR"
   ]
  },
  {
   "cell_type": "code",
   "execution_count": 2,
   "metadata": {
    "executionInfo": {
     "elapsed": 3554,
     "status": "ok",
     "timestamp": 1607036901691,
     "user": {
      "displayName": "Maelle Cloarec",
      "photoUrl": "",
      "userId": "04556824091212731934"
     },
     "user_tz": -60
    },
    "id": "BA9MxEknrBO7"
   },
   "outputs": [],
   "source": [
    "INTENTS = [\n",
    "    'book-appointment',\n",
    "    'book-hotel',\n",
    "    'book-restaurant',\n",
    "    'change-appointment',\n",
    "    'change-car-rental',\n",
    "    'change-driver',\n",
    "    'change-hotel',\n",
    "    'change-reminder',\n",
    "    'change-restaurant',\n",
    "    'contact-provider',\n",
    "    'context',\n",
    "    'find-Property',\n",
    "    'find-Recipe',\n",
    "    'find-Trip',\n",
    "    'find-activity',\n",
    "    'find-around-me',\n",
    "    'find-car-rental',\n",
    "    'find-driver',\n",
    "    'find-flight',\n",
    "    'find-hotel',\n",
    "    'find-information',\n",
    "    'find-itinerary',\n",
    "    'find-restaurant',\n",
    "    'find-train',\n",
    "    'inform',\n",
    "    'irrelevant',\n",
    "    'other',\n",
    "    'provide-agenda',\n",
    "    'provide-news',\n",
    "    'provide-showtimes',\n",
    "    'provide-translation',\n",
    "    'provide-tv-guide',\n",
    "    'provide-weather',\n",
    "    'purchase',\n",
    "    'set-reminder',\n",
    "    'smalltalk',\n",
    "    'unsupported',\n",
    "]"
   ]
  },
  {
   "cell_type": "code",
   "execution_count": 3,
   "metadata": {
    "executionInfo": {
     "elapsed": 3553,
     "status": "ok",
     "timestamp": 1607036901692,
     "user": {
      "displayName": "Maelle Cloarec",
      "photoUrl": "",
      "userId": "04556824091212731934"
     },
     "user_tz": -60
    },
    "id": "d70OfICzrDz6"
   },
   "outputs": [],
   "source": [
    "#def get_classif(classification):\n",
    "#    return INTENTS.index(max(classification, key=classification.get))"
   ]
  },
  {
   "cell_type": "code",
   "execution_count": 4,
   "metadata": {},
   "outputs": [],
   "source": [
    "def get_classif(classification):\n",
    "    value = INTENTS.index(max(classification, key=classification.get))\n",
    "    if value not in [15, 18, 19, 22, 23, 25, 29, 33] :\n",
    "        value = 25\n",
    "    return value"
   ]
  },
  {
   "cell_type": "code",
   "execution_count": 5,
   "metadata": {
    "executionInfo": {
     "elapsed": 3550,
     "status": "ok",
     "timestamp": 1607036901692,
     "user": {
      "displayName": "Maelle Cloarec",
      "photoUrl": "",
      "userId": "04556824091212731934"
     },
     "user_tz": -60
    },
    "id": "Q3DDzIFVrFLr"
   },
   "outputs": [],
   "source": [
    "def get_softmax(classification):\n",
    "    return [c/100 for c in classification.values()]"
   ]
  },
  {
   "cell_type": "code",
   "execution_count": 6,
   "metadata": {
    "executionInfo": {
     "elapsed": 3548,
     "status": "ok",
     "timestamp": 1607036901692,
     "user": {
      "displayName": "Maelle Cloarec",
      "photoUrl": "",
      "userId": "04556824091212731934"
     },
     "user_tz": -60
    },
    "id": "odOtP-eVrGgb"
   },
   "outputs": [],
   "source": [
    "def get_classification(sentences):\n",
    "    URL = \"http://teaching-pfe.francecentral.azurecontainer.io/api/classification\"  \n",
    "    LANG = \"fr-FR\"\n",
    "    classifs = [requests.get(f\"{URL}?iso_language={LANG}&sentence={sentence}\").json().get(\"classification\") for sentence in sentences]\n",
    "    return (np.array([get_classif(c) for c in classifs]), np.array([get_softmax(c) for c in classifs]))"
   ]
  },
  {
   "cell_type": "code",
   "execution_count": 7,
   "metadata": {
    "executionInfo": {
     "elapsed": 638,
     "status": "ok",
     "timestamp": 1607038647303,
     "user": {
      "displayName": "Maelle Cloarec",
      "photoUrl": "",
      "userId": "04556824091212731934"
     },
     "user_tz": -60
    },
    "id": "Ngr_IS9VrVNS"
   },
   "outputs": [
    {
     "name": "stdout",
     "output_type": "stream",
     "text": [
      "{'intent': 'irrelevant', 'sentence': 'Est ce que tu peux me dire en détails ce que tu sais faire ?', 'keyboard_aug': 'Est ce que tu peux me sire en détaums ce que tu sais faire?', 'wordswap_aug': 'Est ce que tu peux me dire détails en que ce sais tu? faire'}\n"
     ]
    }
   ],
   "source": [
    "with open(\"dataset_aug.json\", \"r\") as dataset_file:\n",
    "   data = json.load(dataset_file)\n",
    "\n",
    "print(data[0])"
   ]
  },
  {
   "cell_type": "markdown",
   "metadata": {
    "id": "kp08LuTCri1j"
   },
   "source": [
    "# Create and run tests"
   ]
  },
  {
   "cell_type": "markdown",
   "metadata": {
    "id": "zYqQhQT23sEl"
   },
   "source": [
    "## MFT"
   ]
  },
  {
   "cell_type": "markdown",
   "metadata": {
    "id": "HAln7mCq3vTd"
   },
   "source": [
    "### Original dataset"
   ]
  },
  {
   "cell_type": "code",
   "execution_count": 50,
   "metadata": {
    "executionInfo": {
     "elapsed": 532,
     "status": "ok",
     "timestamp": 1607038655049,
     "user": {
      "displayName": "Maelle Cloarec",
      "photoUrl": "",
      "userId": "04556824091212731934"
     },
     "user_tz": -60
    },
    "id": "Ks97JDx5rkIz"
   },
   "outputs": [
    {
     "name": "stdout",
     "output_type": "stream",
     "text": [
      " Sample - data : Est ce que tu peux me dire en détails ce que tu sais faire ?; label : 25/irrelevant\n"
     ]
    }
   ],
   "source": [
    "data_mft_original = { \"data\": [elem.get(\"sentence\") for elem in data],\n",
    "                      \"labels\": [INTENTS.index(elem.get(\"intent\")) for elem in data]}\n",
    "\n",
    "label_0 = data_mft_original.get('labels')[0]\n",
    "print(f\" Sample - data : {data_mft_original.get('data')[0]}; label : {label_0}/{INTENTS[label_0]}\")"
   ]
  },
  {
   "cell_type": "code",
   "execution_count": 51,
   "metadata": {
    "colab": {
     "base_uri": "https://localhost:8080/"
    },
    "executionInfo": {
     "elapsed": 17536917,
     "status": "ok",
     "timestamp": 1607056191442,
     "user": {
      "displayName": "Maelle Cloarec",
      "photoUrl": "",
      "userId": "04556824091212731934"
     },
     "user_tz": -60
    },
    "id": "cVOeP0wz08Cm",
    "outputId": "7a22dd16-8ac6-4f77-ee06-bd4a5f99f1c7"
   },
   "outputs": [],
   "source": [
    "test_MFT_original = MFT(**data_mft_original,name=\"original dataset\", capability=\"None\", description=\" \")"
   ]
  },
  {
   "cell_type": "code",
   "execution_count": 52,
   "metadata": {},
   "outputs": [
    {
     "name": "stdout",
     "output_type": "stream",
     "text": [
      "Started at 2020-12-09 13:32:16.972415\n",
      "Predicting 5395 examples\n",
      "Execution time : 0:59:55.001080\n"
     ]
    }
   ],
   "source": [
    "start = datetime.now()\n",
    "print(f\"Started at {start}\")\n",
    "test_MFT_original.run(get_classification, overwrite=True)\n",
    "end = datetime.now()\n",
    "print(f\"Execution time : {end - start}\") # estimation : 54min"
   ]
  },
  {
   "cell_type": "code",
   "execution_count": 53,
   "metadata": {
    "colab": {
     "base_uri": "https://localhost:8080/"
    },
    "executionInfo": {
     "elapsed": 17536913,
     "status": "ok",
     "timestamp": 1607056191444,
     "user": {
      "displayName": "Maelle Cloarec",
      "photoUrl": "",
      "userId": "04556824091212731934"
     },
     "user_tz": -60
    },
    "id": "jGlCPiPc2AHA",
    "outputId": "65b20173-b5b4-44ea-d812-2f620c88667d"
   },
   "outputs": [
    {
     "name": "stdout",
     "output_type": "stream",
     "text": [
      "Test cases:      5395\n",
      "Fails (rate):    19 (0.4%)\n",
      "\n",
      "Example fails:\n",
      "25 (0.0) Fais moi une précommande de la prochaine xbox\n",
      "----\n",
      "25 (0.4) j'ai besoin que tu me cherche un b&b pour le dernier weekend du mois à saint-petersbourg\n",
      "----\n",
      "19 (0.8) chambre pour cinq aix en provence (sans budget)\n",
      "----\n"
     ]
    }
   ],
   "source": [
    "test_MFT_original.summary()"
   ]
  },
  {
   "cell_type": "markdown",
   "metadata": {
    "id": "eBpuJhcN3iA1"
   },
   "source": [
    "### Typographie faults\n"
   ]
  },
  {
   "cell_type": "code",
   "execution_count": 54,
   "metadata": {
    "executionInfo": {
     "elapsed": 17536909,
     "status": "ok",
     "timestamp": 1607056191445,
     "user": {
      "displayName": "Maelle Cloarec",
      "photoUrl": "",
      "userId": "04556824091212731934"
     },
     "user_tz": -60
    },
    "id": "D7nlZI2P3idV"
   },
   "outputs": [
    {
     "name": "stdout",
     "output_type": "stream",
     "text": [
      " Sample - data : Est ce que tu peux me sire en détaums ce que tu sais faire?; label : 25/irrelevant\n"
     ]
    }
   ],
   "source": [
    "data_mft_typo = { \"data\": [elem.get(\"keyboard_aug\") for elem in data],\n",
    "                  \"labels\": [INTENTS.index(elem.get(\"intent\")) for elem in data]}\n",
    "\n",
    "label_0 = data_mft_typo.get('labels')[0]\n",
    "print(f\" Sample - data : {data_mft_typo.get('data')[0]}; label : {label_0}/{INTENTS[label_0]}\")"
   ]
  },
  {
   "cell_type": "code",
   "execution_count": 55,
   "metadata": {
    "colab": {
     "base_uri": "https://localhost:8080/"
    },
    "id": "_CnFFiwa2lYu",
    "outputId": "f7c95477-e151-4bc1-eb4d-36dfed6a389a"
   },
   "outputs": [],
   "source": [
    "test_MFT_typo = MFT(**data_mft_typo, name=\"typo\", capability=\"None\", description=\"MFT data aug with typo\")"
   ]
  },
  {
   "cell_type": "code",
   "execution_count": 58,
   "metadata": {},
   "outputs": [
    {
     "name": "stdout",
     "output_type": "stream",
     "text": [
      "Started at 2020-12-09 15:36:17.022950\n",
      "Predicting 5395 examples\n",
      "Execution time : 0:51:13.389092\n"
     ]
    }
   ],
   "source": [
    "start = datetime.now()\n",
    "print(f\"Started at {start}\")\n",
    "test_MFT_typo.run(get_classification, overwrite=True)\n",
    "end = datetime.now()\n",
    "print(f\"Execution time : {end - start}\") # estimation : 54min"
   ]
  },
  {
   "cell_type": "code",
   "execution_count": 59,
   "metadata": {
    "id": "lvkrTec424Sv"
   },
   "outputs": [
    {
     "name": "stdout",
     "output_type": "stream",
     "text": [
      "Test cases:      5395\n",
      "Fails (rate):    430 (8.0%)\n",
      "\n",
      "Example fails:\n",
      "25 (0.1) y a un bon itaOieb Fers moi?\n",
      "----\n",
      "25 (0.0) Trouvd un hypnologue avec des consultations abordqnles et efficaces\n",
      "----\n",
      "25 (0.8) chercteG restaurant\n",
      "----\n"
     ]
    }
   ],
   "source": [
    "test_MFT_typo.summary()"
   ]
  },
  {
   "cell_type": "markdown",
   "metadata": {
    "id": "qFgDtUkY318l"
   },
   "source": [
    "### Switching words' positions"
   ]
  },
  {
   "cell_type": "code",
   "execution_count": 61,
   "metadata": {
    "id": "zzj0Mlnd36m1"
   },
   "outputs": [
    {
     "name": "stdout",
     "output_type": "stream",
     "text": [
      " Sample - data : Est ce que tu peux me dire détails en que ce sais tu? faire; label : 25/irrelevant\n"
     ]
    }
   ],
   "source": [
    "data_mft_switch = { \"data\": [elem.get(\"wordswap_aug\") for elem in data],\n",
    "                  \"labels\": [INTENTS.index(elem.get(\"intent\")) for elem in data]}\n",
    "            \n",
    "label_0 = data_mft_switch.get('labels')[0]\n",
    "print(f\" Sample - data : {data_mft_switch.get('data')[0]}; label : {label_0}/{INTENTS[label_0]}\")"
   ]
  },
  {
   "cell_type": "code",
   "execution_count": 62,
   "metadata": {
    "id": "gIBeTbZq4H95"
   },
   "outputs": [],
   "source": [
    "test_MFT_switch = MFT(**data_mft_switch, name=\"switch\", capability=\"None\", description=\" data aug with switch\")"
   ]
  },
  {
   "cell_type": "code",
   "execution_count": 63,
   "metadata": {},
   "outputs": [
    {
     "name": "stdout",
     "output_type": "stream",
     "text": [
      "Started at 2020-12-09 16:58:03.504773\n",
      "Predicting 5395 examples\n",
      "Execution time : 0:54:44.174924\n"
     ]
    }
   ],
   "source": [
    "start = datetime.now()\n",
    "print(f\"Started at {start}\")\n",
    "test_MFT_switch.run(get_classification, overwrite=True)\n",
    "end = datetime.now()\n",
    "print(f\"Execution time : {end - start}\")  # estimation : 54min"
   ]
  },
  {
   "cell_type": "code",
   "execution_count": 65,
   "metadata": {
    "id": "L3ko_Q1f4Oju"
   },
   "outputs": [
    {
     "name": "stdout",
     "output_type": "stream",
     "text": [
      "Test cases:      5395\n",
      "Fails (rate):    95 (1.8%)\n",
      "\n",
      "Example fails:\n",
      "25 (0.0) Cherche terrain de badminton jeu libre / 5 € p notre vers d dame ' oé\n",
      "----\n",
      "15 (0.9) Dermatologue un au plus vite\n",
      "----\n",
      "25 (0.0) 2 lyon, psychiatre\n",
      "----\n"
     ]
    }
   ],
   "source": [
    "test_MFT_switch.summary()"
   ]
  },
  {
   "cell_type": "markdown",
   "metadata": {
    "id": "MeKiPv4Hrklx"
   },
   "source": [
    "## INV"
   ]
  },
  {
   "cell_type": "markdown",
   "metadata": {
    "id": "FRm3C1pm5GOm"
   },
   "source": [
    "### Typographie faults"
   ]
  },
  {
   "cell_type": "code",
   "execution_count": 67,
   "metadata": {
    "id": "H5ySE85yrn8i"
   },
   "outputs": [
    {
     "name": "stdout",
     "output_type": "stream",
     "text": [
      "samples - [['Est ce que tu peux me dire en détails ce que tu sais faire ?', 'Est ce que tu peux me sire en détaums ce que tu sais faire?'], [\"J'ai faim !!! Propose moi quelque chose, mais pas de fast food car j'ai déjà mangé à Quick hier !\", \"J ' ai faim! !! Propose moi auelWue chose, ùais pas de fast food car j ' ai déjà mangé à Quick hier!\"]]\n"
     ]
    }
   ],
   "source": [
    "t_typo = { \"data\":[[item.get(\"sentence\"), item.get(\"keyboard_aug\")] for item in data]}\n",
    "\n",
    "print(f\"samples - {t_typo.get('data')[:2]}\")"
   ]
  },
  {
   "cell_type": "code",
   "execution_count": 68,
   "metadata": {
    "id": "EPO-jjgN5Mk2"
   },
   "outputs": [],
   "source": [
    "test_INV_typo = INV(**t_typo, name=\"typo augmentation\", description=\"test with data augmentation with typo\")"
   ]
  },
  {
   "cell_type": "code",
   "execution_count": 69,
   "metadata": {},
   "outputs": [
    {
     "name": "stdout",
     "output_type": "stream",
     "text": [
      "Started at 2020-12-09 17:59:16.403402\n",
      "Predicting 10790 examples\n",
      "Execution time : 1:53:41.151320\n"
     ]
    }
   ],
   "source": [
    "start = datetime.now()\n",
    "print(f\"Started at {start}\")\n",
    "test_INV_typo.run(get_classification, overwrite=True)\n",
    "end = datetime.now()\n",
    "print(f\"Execution time : {end - start}\")  # estimation : 2h"
   ]
  },
  {
   "cell_type": "code",
   "execution_count": 70,
   "metadata": {
    "id": "Md47sc095OhU"
   },
   "outputs": [
    {
     "name": "stdout",
     "output_type": "stream",
     "text": [
      "Test cases:      5395\n",
      "Fails (rate):    280 (5.2%)\n",
      "\n",
      "Example fails:\n",
      "22 (1.0) Peux-tu me suggérer un restaurant ?\n",
      "15 (0.5) 0eux - tu me suggérer un restZur&nt?\n",
      "\n",
      "----\n",
      "22 (1.0) bonjour, tu me trouves un resto d'asie avec menu à 15 euros ? Merci !\n",
      "33 (0.0) bonjour, tu me trouves un resgo d ' asie aves menu à 15 euros? Merci!\n",
      "\n",
      "----\n",
      "15 (1.0) Trouve-moi l'Auchan le plus proche\n",
      "25 (0.0) TrKuve - moi l ' Auchan le plus prochS\n",
      "\n",
      "----\n"
     ]
    }
   ],
   "source": [
    "test_INV_typo.summary()"
   ]
  },
  {
   "cell_type": "markdown",
   "metadata": {
    "id": "GHhYcnN45VpN"
   },
   "source": [
    "### Switching words' positions"
   ]
  },
  {
   "cell_type": "code",
   "execution_count": 8,
   "metadata": {
    "id": "9U9-mSrc5Ui0"
   },
   "outputs": [
    {
     "name": "stdout",
     "output_type": "stream",
     "text": [
      "samples - [['Est ce que tu peux me dire en détails ce que tu sais faire ?', 'Est ce que tu peux me dire détails en que ce sais tu? faire'], [\"J'ai faim !!! Propose moi quelque chose, mais pas de fast food car j'ai déjà mangé à Quick hier !\", \"' j ai faim! !! Propose quelque moi chose, mais pas fast de car food j ai ' déjà à mangé Quick hier!\"]]\n"
     ]
    }
   ],
   "source": [
    "t_switch = { \"data\":[[item.get(\"sentence\"), item.get(\"wordswap_aug\")] for item in data]}\n",
    "\n",
    "print(f\"samples - {t_switch.get('data')[:2]}\")"
   ]
  },
  {
   "cell_type": "code",
   "execution_count": 9,
   "metadata": {
    "id": "zzkfwuvx8UF7"
   },
   "outputs": [],
   "source": [
    "test_INV_switch = INV(**t_switch, name=\"switch augmentation\", description=\"test with data augmentation with swap words\")"
   ]
  },
  {
   "cell_type": "code",
   "execution_count": 11,
   "metadata": {},
   "outputs": [
    {
     "name": "stdout",
     "output_type": "stream",
     "text": [
      "Started at 2020-12-09 22:58:49.941000\n",
      "Predicting 10790 examples\n",
      "Execution time : 1:41:25.283714\n"
     ]
    }
   ],
   "source": [
    "start = datetime.now()\n",
    "print(f\"Started at {start}\")\n",
    "test_INV_switch.run(get_classification, overwrite=True)\n",
    "end = datetime.now()\n",
    "print(f\"Execution time : {end - start}\")  # estimation : 2h"
   ]
  },
  {
   "cell_type": "code",
   "execution_count": 12,
   "metadata": {
    "id": "qkBMlcNG8bgl"
   },
   "outputs": [
    {
     "name": "stdout",
     "output_type": "stream",
     "text": [
      "Test cases:      5395\n",
      "Fails (rate):    50 (0.9%)\n",
      "\n",
      "Example fails:\n",
      "22 (0.9) Est-ce que le restaurant le fifties au Havre est ouvert ce soir et quelle est la carte des menus ?\n",
      "25 (0.0) Est - que ce le restaurant au le fifties est Havre ouvert ce soir et est quelle carte la des menus?\n",
      "\n",
      "----\n",
      "19 (1.0) Il me faut 1 chambre avec lit-double aux alentours de Manosque le 15 août pour le mariage de ma sœur.\n",
      "25 (0.0) Il me faut 1 chambre lit avec - double alentours de aux le Manosque 15 août le pour mariage de ma. sœur\n",
      "\n",
      "----\n",
      "19 (1.0) Hôtel à 100 euros par nuit\n",
      "25 (0.0) À hôtel 100 euros par nuit\n",
      "\n",
      "----\n"
     ]
    }
   ],
   "source": [
    "test_INV_switch.summary()"
   ]
  },
  {
   "cell_type": "markdown",
   "metadata": {
    "id": "4SjbrKNT8p7I"
   },
   "source": [
    "# Visualisation"
   ]
  },
  {
   "cell_type": "markdown",
   "metadata": {
    "id": "L4g4VJ3Z8vdX"
   },
   "source": [
    "## Original dataset"
   ]
  },
  {
   "cell_type": "code",
   "execution_count": 44,
   "metadata": {
    "colab": {
     "base_uri": "https://localhost:8080/",
     "height": 17,
     "referenced_widgets": [
      "e148e76327224cdb923ab226133fa973"
     ]
    },
    "executionInfo": {
     "elapsed": 1000,
     "status": "ok",
     "timestamp": 1607038595035,
     "user": {
      "displayName": "Maelle Cloarec",
      "photoUrl": "",
      "userId": "04556824091212731934"
     },
     "user_tz": -60
    },
    "id": "_lPYc8wS8y2F",
    "outputId": "6bbe39c5-365a-4336-b275-121a2ca343f0"
   },
   "outputs": [
    {
     "data": {
      "application/vnd.jupyter.widget-view+json": {
       "model_id": "cb26037788cb424bb5d2020f7e512321",
       "version_major": 2,
       "version_minor": 0
      },
      "text/plain": [
       "TestSummarizer(stats={'npassed': 10, 'nfailed': 0, 'nfiltered': 0}, summarizer={'name': 'original dataset', 'd…"
      ]
     },
     "metadata": {},
     "output_type": "display_data"
    }
   ],
   "source": [
    "test_MFT_original.visual_summary()"
   ]
  },
  {
   "cell_type": "markdown",
   "metadata": {
    "id": "pW76NSID83uj"
   },
   "source": [
    "## Typo"
   ]
  },
  {
   "cell_type": "code",
   "execution_count": 60,
   "metadata": {
    "colab": {
     "base_uri": "https://localhost:8080/",
     "height": 17,
     "referenced_widgets": [
      "74d2e4b21ce94e7193662aba0b0de34d"
     ]
    },
    "executionInfo": {
     "elapsed": 1223,
     "status": "ok",
     "timestamp": 1607038596291,
     "user": {
      "displayName": "Maelle Cloarec",
      "photoUrl": "",
      "userId": "04556824091212731934"
     },
     "user_tz": -60
    },
    "id": "7babe0i085rc",
    "outputId": "70e8d8ff-3299-4a59-9a48-2b40cc85e0eb"
   },
   "outputs": [
    {
     "data": {
      "application/vnd.jupyter.widget-view+json": {
       "model_id": "299b10eeda8f4626bdfedd49e7748e90",
       "version_major": 2,
       "version_minor": 0
      },
      "text/plain": [
       "TestSummarizer(stats={'npassed': 4965, 'nfailed': 430, 'nfiltered': 0}, summarizer={'name': 'typo', 'descripti…"
      ]
     },
     "metadata": {},
     "output_type": "display_data"
    }
   ],
   "source": [
    "test_MFT_typo.visual_summary()"
   ]
  },
  {
   "cell_type": "code",
   "execution_count": 71,
   "metadata": {
    "colab": {
     "base_uri": "https://localhost:8080/",
     "height": 17,
     "referenced_widgets": [
      "4826f21a2a56425bb8c950f876831ba0"
     ]
    },
    "executionInfo": {
     "elapsed": 1294,
     "status": "ok",
     "timestamp": 1607038596726,
     "user": {
      "displayName": "Maelle Cloarec",
      "photoUrl": "",
      "userId": "04556824091212731934"
     },
     "user_tz": -60
    },
    "id": "2z2iSkCo9Fqj",
    "outputId": "c598b51a-0206-4f22-b49f-c402c494f469"
   },
   "outputs": [
    {
     "data": {
      "application/vnd.jupyter.widget-view+json": {
       "model_id": "e39298d1394b492da4d3185853c90ee8",
       "version_major": 2,
       "version_minor": 0
      },
      "text/plain": [
       "TestSummarizer(stats={'npassed': 5115, 'nfailed': 280, 'nfiltered': 0}, summarizer={'name': 'typo augmentation…"
      ]
     },
     "metadata": {},
     "output_type": "display_data"
    }
   ],
   "source": [
    "test_INV_typo.visual_summary()"
   ]
  },
  {
   "cell_type": "markdown",
   "metadata": {
    "id": "Vh_rjtQt9H6b"
   },
   "source": [
    "## Switch\n",
    "\n"
   ]
  },
  {
   "cell_type": "code",
   "execution_count": 66,
   "metadata": {
    "colab": {
     "base_uri": "https://localhost:8080/",
     "height": 17,
     "referenced_widgets": [
      "f2fbfd9b550c48238a7a426eb2587f41"
     ]
    },
    "executionInfo": {
     "elapsed": 971,
     "status": "ok",
     "timestamp": 1607038605883,
     "user": {
      "displayName": "Maelle Cloarec",
      "photoUrl": "",
      "userId": "04556824091212731934"
     },
     "user_tz": -60
    },
    "id": "CB6IqG0d9QfC",
    "outputId": "bd762e81-14c6-4e94-fa30-b18b296ae47d"
   },
   "outputs": [
    {
     "data": {
      "application/vnd.jupyter.widget-view+json": {
       "model_id": "188a618d6c8a4f37b32522cf5014d576",
       "version_major": 2,
       "version_minor": 0
      },
      "text/plain": [
       "TestSummarizer(stats={'npassed': 5300, 'nfailed': 95, 'nfiltered': 0}, summarizer={'name': 'switch', 'descript…"
      ]
     },
     "metadata": {},
     "output_type": "display_data"
    }
   ],
   "source": [
    "test_MFT_switch.visual_summary()"
   ]
  },
  {
   "cell_type": "code",
   "execution_count": 13,
   "metadata": {
    "colab": {
     "base_uri": "https://localhost:8080/",
     "height": 17,
     "referenced_widgets": [
      "d1543255d39f44f7a42a8faf727b3a7a"
     ]
    },
    "executionInfo": {
     "elapsed": 971,
     "status": "ok",
     "timestamp": 1607038598422,
     "user": {
      "displayName": "Maelle Cloarec",
      "photoUrl": "",
      "userId": "04556824091212731934"
     },
     "user_tz": -60
    },
    "id": "fKQp5b4w9TsK",
    "outputId": "0b49ce23-e096-428b-89bf-0a808c88d78e"
   },
   "outputs": [
    {
     "data": {
      "application/vnd.jupyter.widget-view+json": {
       "model_id": "69474d8ab3a84b82af0b71d059ae481e",
       "version_major": 2,
       "version_minor": 0
      },
      "text/plain": [
       "TestSummarizer(stats={'npassed': 5345, 'nfailed': 50, 'nfiltered': 0}, summarizer={'name': 'switch augmentatio…"
      ]
     },
     "metadata": {},
     "output_type": "display_data"
    }
   ],
   "source": [
    "test_INV_switch.visual_summary()"
   ]
  },
  {
   "cell_type": "code",
   "execution_count": 51,
   "metadata": {},
   "outputs": [
    {
     "data": {
      "application/vnd.jupyter.widget-view+json": {
       "model_id": "294bb441f0624a63a557bead384043e1",
       "version_major": 2,
       "version_minor": 0
      },
      "text/plain": [
       "TestSummarizer(stats={'npassed': 6, 'nfailed': 4, 'nfiltered': 0}, summarizer={'name': 'typo augmentation', 'd…"
      ]
     },
     "metadata": {},
     "output_type": "display_data"
    }
   ],
   "source": []
  }
 ],
 "metadata": {
  "colab": {
   "authorship_tag": "ABX9TyMmIRgoyHJnkXrj2WRqz5iZ",
   "collapsed_sections": [],
   "name": "checklist_typo_switch.ipynb",
   "provenance": [],
   "toc_visible": true
  },
  "kernelspec": {
   "display_name": "Python 3",
   "language": "python",
   "name": "python3"
  },
  "language_info": {
   "codemirror_mode": {
    "name": "ipython",
    "version": 3
   },
   "file_extension": ".py",
   "mimetype": "text/x-python",
   "name": "python",
   "nbconvert_exporter": "python",
   "pygments_lexer": "ipython3",
   "version": "3.6.9"
  },
  "widgets": {
   "application/vnd.jupyter.widget-state+json": {
    "4826f21a2a56425bb8c950f876831ba0": {
     "model_module": "viewer",
     "model_name": "TestSummarizerModel",
     "state": {
      "_dom_classes": [],
      "_model_module": "viewer",
      "_model_module_version": "^0.1.0",
      "_model_name": "TestSummarizerModel",
      "_view_count": null,
      "_view_module": "viewer",
      "_view_module_version": "^0.1.0",
      "_view_name": "TestSummarizerView",
      "layout": "IPY_MODEL_30bce65cddad45d1b956cc2a18dbf1a2",
      "stats": {
       "nfailed": 0,
       "nfiltered": 0,
       "npassed": 5
      },
      "summarizer": {
       "capability": null,
       "description": "test with data augmentation with typo",
       "name": "typo augmentation",
       "stats": {
        "nfailed": 0,
        "nfiltered": 0,
        "npassed": 5
       },
       "tags": [],
       "type": "inv"
      },
      "testcases": []
     }
    },
    "74d2e4b21ce94e7193662aba0b0de34d": {
     "model_module": "viewer",
     "model_name": "TestSummarizerModel",
     "state": {
      "_dom_classes": [],
      "_model_module": "viewer",
      "_model_module_version": "^0.1.0",
      "_model_name": "TestSummarizerModel",
      "_view_count": null,
      "_view_module": "viewer",
      "_view_module_version": "^0.1.0",
      "_view_name": "TestSummarizerView",
      "layout": "IPY_MODEL_0c0ab36544a34d9199088c572675937d",
      "stats": {
       "nfailed": 1,
       "nfiltered": 0,
       "npassed": 4
      },
      "summarizer": {
       "capability": "None",
       "description": " data aug with typo",
       "name": "typo",
       "stats": {
        "nfailed": 1,
        "nfiltered": 0,
        "npassed": 4
       },
       "tags": [],
       "type": "mft"
      },
      "testcases": [
       {
        "examples": [
         {
          "label": 29,
          "new": {
           "conf": 0.53,
           "pred": "10",
           "text": "Peux tu me dojner les horaires D&ances cinéma du gilm hostiles daBs les salles du 12 ieùe arrondissement de PaDis?",
           "tokens": [
            [
             "Peux",
             "tu",
             "me",
             "dojner",
             "les",
             "horaires",
             "D&ances",
             "cinéma",
             "du",
             "gilm",
             "hostiles",
             "daBs",
             "les",
             "salles",
             "du",
             "12",
             "ieùe",
             "arrondissement",
             "de",
             "PaDis",
             "?"
            ]
           ]
          },
          "old": null,
          "succeed": 0
         }
        ],
        "succeed": 0,
        "tags": []
       }
      ]
     }
    },
    "d1543255d39f44f7a42a8faf727b3a7a": {
     "model_module": "viewer",
     "model_name": "TestSummarizerModel",
     "state": {
      "_dom_classes": [],
      "_model_module": "viewer",
      "_model_module_version": "^0.1.0",
      "_model_name": "TestSummarizerModel",
      "_view_count": null,
      "_view_module": "viewer",
      "_view_module_version": "^0.1.0",
      "_view_name": "TestSummarizerView",
      "layout": "IPY_MODEL_49087e4b9dd042a4a5e9ad8582b8f346",
      "stats": {
       "nfailed": 0,
       "nfiltered": 0,
       "npassed": 5
      },
      "summarizer": {
       "capability": null,
       "description": "test with data augmentation with swap words",
       "name": "switch augmentation",
       "stats": {
        "nfailed": 0,
        "nfiltered": 0,
        "npassed": 5
       },
       "tags": [],
       "type": "inv"
      },
      "testcases": []
     }
    },
    "e148e76327224cdb923ab226133fa973": {
     "model_module": "viewer",
     "model_name": "TestSummarizerModel",
     "state": {
      "_dom_classes": [],
      "_model_module": "viewer",
      "_model_module_version": "^0.1.0",
      "_model_name": "TestSummarizerModel",
      "_view_count": null,
      "_view_module": "viewer",
      "_view_module_version": "^0.1.0",
      "_view_name": "TestSummarizerView",
      "layout": "IPY_MODEL_a25b3666d33b46b7b1d5ff8ac0b9bed6",
      "stats": {
       "nfailed": 0,
       "nfiltered": 0,
       "npassed": 1
      },
      "summarizer": {
       "capability": "None",
       "description": " ",
       "name": "original dataset",
       "stats": {
        "nfailed": 0,
        "nfiltered": 0,
        "npassed": 1
       },
       "tags": [],
       "type": "mft"
      },
      "testcases": []
     }
    },
    "f2fbfd9b550c48238a7a426eb2587f41": {
     "model_module": "viewer",
     "model_name": "TestSummarizerModel",
     "state": {
      "_dom_classes": [],
      "_model_module": "viewer",
      "_model_module_version": "^0.1.0",
      "_model_name": "TestSummarizerModel",
      "_view_count": null,
      "_view_module": "viewer",
      "_view_module_version": "^0.1.0",
      "_view_name": "TestSummarizerView",
      "layout": "IPY_MODEL_27c7e05be04f4ec0881102e7318d00ee",
      "stats": {
       "nfailed": 0,
       "nfiltered": 0,
       "npassed": 5
      },
      "summarizer": {
       "capability": "None",
       "description": " data aug with switch",
       "name": "switch",
       "stats": {
        "nfailed": 0,
        "nfiltered": 0,
        "npassed": 5
       },
       "tags": [],
       "type": "mft"
      },
      "testcases": []
     }
    }
   }
  }
 },
 "nbformat": 4,
 "nbformat_minor": 1
}
