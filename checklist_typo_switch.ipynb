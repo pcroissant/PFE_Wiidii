{
 "cells": [
  {
   "cell_type": "code",
   "execution_count": 1,
   "metadata": {
    "executionInfo": {
     "elapsed": 3558,
     "status": "ok",
     "timestamp": 1607036901690,
     "user": {
      "displayName": "Maelle Cloarec",
      "photoUrl": "",
      "userId": "04556824091212731934"
     },
     "user_tz": -60
    },
    "id": "t7f8gnVIqZvr"
   },
   "outputs": [],
   "source": [
    "!pip install checklist &> /dev/null"
   ]
  },
  {
   "cell_type": "code",
   "execution_count": 2,
   "metadata": {
    "executionInfo": {
     "elapsed": 3556,
     "status": "ok",
     "timestamp": 1607036901691,
     "user": {
      "displayName": "Maelle Cloarec",
      "photoUrl": "",
      "userId": "04556824091212731934"
     },
     "user_tz": -60
    },
    "id": "aZ3I9xXcq9RD"
   },
   "outputs": [],
   "source": [
    "from datetime import datetime\n",
    "import json\n",
    "import requests\n",
    "import numpy as np\n",
    "\n",
    "import checklist\n",
    "from checklist.expect import Expect\n",
    "from checklist.test_types import MFT, INV, DIR"
   ]
  },
  {
   "cell_type": "code",
   "execution_count": 3,
   "metadata": {
    "executionInfo": {
     "elapsed": 3554,
     "status": "ok",
     "timestamp": 1607036901691,
     "user": {
      "displayName": "Maelle Cloarec",
      "photoUrl": "",
      "userId": "04556824091212731934"
     },
     "user_tz": -60
    },
    "id": "BA9MxEknrBO7"
   },
   "outputs": [],
   "source": [
    "INTENTS = [\n",
    "    'book-appointment',\n",
    "    'book-hotel',\n",
    "    'book-restaurant',\n",
    "    'change-appointment',\n",
    "    'change-car-rental',\n",
    "    'change-driver',\n",
    "    'change-hotel',\n",
    "    'change-reminder',\n",
    "    'change-restaurant',\n",
    "    'contact-provider',\n",
    "    'context',\n",
    "    'find-Property',\n",
    "    'find-Recipe',\n",
    "    'find-Trip',\n",
    "    'find-activity',\n",
    "    'find-around-me',\n",
    "    'find-car-rental',\n",
    "    'find-driver',\n",
    "    'find-flight',\n",
    "    'find-hotel',\n",
    "    'find-information',\n",
    "    'find-itinerary',\n",
    "    'find-restaurant',\n",
    "    'find-train',\n",
    "    'inform',\n",
    "    'irrelevant',\n",
    "    'other',\n",
    "    'provide-agenda',\n",
    "    'provide-news',\n",
    "    'provide-showtimes',\n",
    "    'provide-translation',\n",
    "    'provide-tv-guide',\n",
    "    'provide-weather',\n",
    "    'purchase',\n",
    "    'set-reminder',\n",
    "    'smalltalk',\n",
    "    'unsupported',\n",
    "]"
   ]
  },
  {
   "cell_type": "code",
   "execution_count": 4,
   "metadata": {
    "executionInfo": {
     "elapsed": 3553,
     "status": "ok",
     "timestamp": 1607036901692,
     "user": {
      "displayName": "Maelle Cloarec",
      "photoUrl": "",
      "userId": "04556824091212731934"
     },
     "user_tz": -60
    },
    "id": "d70OfICzrDz6"
   },
   "outputs": [],
   "source": [
    "def get_classif(classification):\n",
    "    return INTENTS.index(max(classification, key=classification.get))"
   ]
  },
  {
   "cell_type": "code",
   "execution_count": 5,
   "metadata": {
    "executionInfo": {
     "elapsed": 3550,
     "status": "ok",
     "timestamp": 1607036901692,
     "user": {
      "displayName": "Maelle Cloarec",
      "photoUrl": "",
      "userId": "04556824091212731934"
     },
     "user_tz": -60
    },
    "id": "Q3DDzIFVrFLr"
   },
   "outputs": [],
   "source": [
    "def get_softmax(classification):\n",
    "    return [c/100 for c in classification.values()]"
   ]
  },
  {
   "cell_type": "code",
   "execution_count": 6,
   "metadata": {
    "executionInfo": {
     "elapsed": 3548,
     "status": "ok",
     "timestamp": 1607036901692,
     "user": {
      "displayName": "Maelle Cloarec",
      "photoUrl": "",
      "userId": "04556824091212731934"
     },
     "user_tz": -60
    },
    "id": "odOtP-eVrGgb"
   },
   "outputs": [],
   "source": [
    "def get_classification(sentences):\n",
    "    URL = \"http://teaching-pfe.francecentral.azurecontainer.io/api/classification\"  \n",
    "    LANG = \"fr-FR\"\n",
    "    classifs = [requests.get(f\"{URL}?iso_language={LANG}&sentence={sentence}\").json().get(\"classification\") for sentence in sentences]\n",
    "    return (np.array([get_classif(c) for c in classifs]), np.array([get_softmax(c) for c in classifs]))"
   ]
  },
  {
   "cell_type": "code",
   "execution_count": 9,
   "metadata": {
    "executionInfo": {
     "elapsed": 638,
     "status": "ok",
     "timestamp": 1607038647303,
     "user": {
      "displayName": "Maelle Cloarec",
      "photoUrl": "",
      "userId": "04556824091212731934"
     },
     "user_tz": -60
    },
    "id": "Ngr_IS9VrVNS"
   },
   "outputs": [
    {
     "name": "stdout",
     "output_type": "stream",
     "text": [
      "{'intent': 'irrelevant', 'sentence': 'Est ce que tu peux me dire en détails ce que tu sais faire ?', 'keyboard_aug': ['Est ce que tu pejx me dire en détails ce que tu sais Gaire?', 'Est ce que tu àeux me dire en détails ce que tu sais daire?', 'Est ce que tu peux me dite en détails ce que tu sais faiEe?'], 'wordswap_aug': ['Est ce peux que tu me dire en ce détails tu que sais faire?', 'Est ce que tu peux me en dire détails ce tu que sais faire?', 'Est ce que peux tu me en dire ce détails tu que sais faire?']}\n"
     ]
    }
   ],
   "source": [
    "with open(\"dataset_aug.json\", \"r\") as dataset_file:\n",
    "   data = json.load(dataset_file)\n",
    "\n",
    "print(data[0])\n",
    "data= data[:10]"
   ]
  },
  {
   "cell_type": "markdown",
   "metadata": {
    "id": "kp08LuTCri1j"
   },
   "source": [
    "# Create and run tests"
   ]
  },
  {
   "cell_type": "markdown",
   "metadata": {
    "id": "zYqQhQT23sEl"
   },
   "source": [
    "## MFT"
   ]
  },
  {
   "cell_type": "markdown",
   "metadata": {
    "id": "HAln7mCq3vTd"
   },
   "source": [
    "### Original dataset"
   ]
  },
  {
   "cell_type": "code",
   "execution_count": 10,
   "metadata": {
    "executionInfo": {
     "elapsed": 532,
     "status": "ok",
     "timestamp": 1607038655049,
     "user": {
      "displayName": "Maelle Cloarec",
      "photoUrl": "",
      "userId": "04556824091212731934"
     },
     "user_tz": -60
    },
    "id": "Ks97JDx5rkIz"
   },
   "outputs": [
    {
     "name": "stdout",
     "output_type": "stream",
     "text": [
      " Sample - data : Est ce que tu peux me dire en détails ce que tu sais faire ?; label : 25/irrelevant\n"
     ]
    }
   ],
   "source": [
    "data_mft_original = { \"data\": [elem.get(\"sentence\") for elem in data],\n",
    "                      \"labels\": [INTENTS.index(elem.get(\"intent\")) for elem in data]}\n",
    "\n",
    "label_0 = data_mft_original.get('labels')[0]\n",
    "print(f\" Sample - data : {data_mft_original.get('data')[0]}; label : {label_0}/{INTENTS[label_0]}\")"
   ]
  },
  {
   "cell_type": "code",
   "execution_count": 11,
   "metadata": {
    "colab": {
     "base_uri": "https://localhost:8080/"
    },
    "executionInfo": {
     "elapsed": 17536917,
     "status": "ok",
     "timestamp": 1607056191442,
     "user": {
      "displayName": "Maelle Cloarec",
      "photoUrl": "",
      "userId": "04556824091212731934"
     },
     "user_tz": -60
    },
    "id": "cVOeP0wz08Cm",
    "outputId": "7a22dd16-8ac6-4f77-ee06-bd4a5f99f1c7"
   },
   "outputs": [],
   "source": [
    "test_MFT_original = MFT(**data_mft_original,name=\"original dataset\", capability=\"None\", description=\" \")"
   ]
  },
  {
   "cell_type": "code",
   "execution_count": 12,
   "metadata": {},
   "outputs": [
    {
     "name": "stdout",
     "output_type": "stream",
     "text": [
      "Predicting 10 examples\n",
      "Execution time : 0:00:56.952825\n"
     ]
    }
   ],
   "source": [
    "start = datetime.now()\n",
    "test_MFT_original.run(get_classification, overwrite=True)\n",
    "end = datetime.now()\n",
    "print(f\"Execution time : {end - start}\") # estimation : 30min"
   ]
  },
  {
   "cell_type": "code",
   "execution_count": 13,
   "metadata": {
    "colab": {
     "base_uri": "https://localhost:8080/"
    },
    "executionInfo": {
     "elapsed": 17536913,
     "status": "ok",
     "timestamp": 1607056191444,
     "user": {
      "displayName": "Maelle Cloarec",
      "photoUrl": "",
      "userId": "04556824091212731934"
     },
     "user_tz": -60
    },
    "id": "jGlCPiPc2AHA",
    "outputId": "65b20173-b5b4-44ea-d812-2f620c88667d"
   },
   "outputs": [
    {
     "name": "stdout",
     "output_type": "stream",
     "text": [
      "Test cases:      10\n",
      "Fails (rate):    1 (10.0%)\n",
      "\n",
      "Example fails:\n",
      "35 (0.0) Est ce que tu peux me dire en détails ce que tu sais faire ?\n",
      "----\n"
     ]
    }
   ],
   "source": [
    "test_MFT_original.summary()"
   ]
  },
  {
   "cell_type": "markdown",
   "metadata": {
    "id": "eBpuJhcN3iA1"
   },
   "source": [
    "### Typographie faults\n"
   ]
  },
  {
   "cell_type": "code",
   "execution_count": 14,
   "metadata": {
    "executionInfo": {
     "elapsed": 17536909,
     "status": "ok",
     "timestamp": 1607056191445,
     "user": {
      "displayName": "Maelle Cloarec",
      "photoUrl": "",
      "userId": "04556824091212731934"
     },
     "user_tz": -60
    },
    "id": "D7nlZI2P3idV"
   },
   "outputs": [
    {
     "name": "stdout",
     "output_type": "stream",
     "text": [
      " Sample - data : Est ce que tu pejx me dire en détails ce que tu sais Gaire?; label : 25/irrelevant\n"
     ]
    }
   ],
   "source": [
    "data_mft_typo = { \"data\": [keyboard_sentence for elem in data\n",
    "                                            for keyboard_sentence in elem.get(\"keyboard_aug\")],\n",
    "                  \"labels\": [INTENTS.index(elem.get(\"intent\")) for elem in data \n",
    "                                                              for keyboard_sentence in elem.get(\"keyboard_aug\")]}\n",
    "\n",
    "label_0 = data_mft_typo.get('labels')[0]\n",
    "print(f\" Sample - data : {data_mft_typo.get('data')[0]}; label : {label_0}/{INTENTS[label_0]}\")"
   ]
  },
  {
   "cell_type": "code",
   "execution_count": 15,
   "metadata": {
    "colab": {
     "base_uri": "https://localhost:8080/"
    },
    "id": "_CnFFiwa2lYu",
    "outputId": "f7c95477-e151-4bc1-eb4d-36dfed6a389a"
   },
   "outputs": [],
   "source": [
    "test_MFT_typo = MFT(**data_mft_typo, name=\"typo\", capability=\"None\", description=\"MFT data aug with typo\")"
   ]
  },
  {
   "cell_type": "code",
   "execution_count": 16,
   "metadata": {},
   "outputs": [
    {
     "name": "stdout",
     "output_type": "stream",
     "text": [
      "Predicting 30 examples\n",
      "Execution time : 0:03:00.212069\n"
     ]
    }
   ],
   "source": [
    "start = datetime.now()\n",
    "test_MFT_typo.run(get_classification, overwrite=True)\n",
    "end = datetime.now()\n",
    "print(f\"Execution time : {end - start}\") # estimation : 2h15min"
   ]
  },
  {
   "cell_type": "code",
   "execution_count": 99,
   "metadata": {
    "id": "lvkrTec424Sv"
   },
   "outputs": [],
   "source": [
    "#test_MFT_typo.summary()"
   ]
  },
  {
   "cell_type": "markdown",
   "metadata": {
    "id": "qFgDtUkY318l"
   },
   "source": [
    "### Switching words' positions"
   ]
  },
  {
   "cell_type": "code",
   "execution_count": 124,
   "metadata": {
    "id": "zzj0Mlnd36m1"
   },
   "outputs": [
    {
     "name": "stdout",
     "output_type": "stream",
     "text": [
      " Sample - data : Ce est tu que peux me dire en détails ce que tu sais faire?; label : 25/irrelevant\n"
     ]
    }
   ],
   "source": [
    "data_mft_switch = { \"data\": [switch_sentence for elem in data\n",
    "                                               for switch_sentence in elem.get(\"wordswap_aug\")],\n",
    "                    \"labels\": [INTENTS.index(elem.get(\"intent\")) for elem in data \n",
    "                                                                 for switch_sentence in elem.get(\"wordswap_aug\")]}\n",
    "\n",
    "label_0 = data_mft_switch.get('labels')[0]\n",
    "print(f\" Sample - data : {data_mft_switch.get('data')[0]}; label : {label_0}/{INTENTS[label_0]}\")"
   ]
  },
  {
   "cell_type": "code",
   "execution_count": 125,
   "metadata": {
    "id": "gIBeTbZq4H95"
   },
   "outputs": [],
   "source": [
    "test_MFT_switch = MFT(**data_mft_switch, name=\"switch\", capability=\"None\", description=\" data aug with switch\")"
   ]
  },
  {
   "cell_type": "code",
   "execution_count": 126,
   "metadata": {},
   "outputs": [
    {
     "name": "stdout",
     "output_type": "stream",
     "text": [
      "Predicting 26975 examples\n"
     ]
    },
    {
     "ename": "KeyboardInterrupt",
     "evalue": "",
     "output_type": "error",
     "traceback": [
      "\u001b[0;31m---------------------------------------------------------------------------\u001b[0m",
      "\u001b[0;31mKeyboardInterrupt\u001b[0m                         Traceback (most recent call last)",
      "\u001b[0;32m<ipython-input-126-62a1752d26a6>\u001b[0m in \u001b[0;36m<module>\u001b[0;34m\u001b[0m\n\u001b[1;32m      1\u001b[0m \u001b[0mstart\u001b[0m \u001b[0;34m=\u001b[0m \u001b[0mdatetime\u001b[0m\u001b[0;34m.\u001b[0m\u001b[0mnow\u001b[0m\u001b[0;34m(\u001b[0m\u001b[0;34m)\u001b[0m\u001b[0;34m\u001b[0m\u001b[0;34m\u001b[0m\u001b[0m\n\u001b[0;32m----> 2\u001b[0;31m \u001b[0mtest_MFT_switch\u001b[0m\u001b[0;34m.\u001b[0m\u001b[0mrun\u001b[0m\u001b[0;34m(\u001b[0m\u001b[0mget_classification\u001b[0m\u001b[0;34m,\u001b[0m \u001b[0moverwrite\u001b[0m\u001b[0;34m=\u001b[0m\u001b[0;32mTrue\u001b[0m\u001b[0;34m)\u001b[0m\u001b[0;34m\u001b[0m\u001b[0;34m\u001b[0m\u001b[0m\n\u001b[0m\u001b[1;32m      3\u001b[0m \u001b[0mend\u001b[0m \u001b[0;34m=\u001b[0m \u001b[0mdatetime\u001b[0m\u001b[0;34m.\u001b[0m\u001b[0mnow\u001b[0m\u001b[0;34m(\u001b[0m\u001b[0;34m)\u001b[0m\u001b[0;34m\u001b[0m\u001b[0;34m\u001b[0m\u001b[0m\n\u001b[1;32m      4\u001b[0m \u001b[0mprint\u001b[0m\u001b[0;34m(\u001b[0m\u001b[0;34mf\"Execution time : {end - start}\"\u001b[0m\u001b[0;34m)\u001b[0m\u001b[0;34m\u001b[0m\u001b[0;34m\u001b[0m\u001b[0m\n",
      "\u001b[0;32m~/Documents/PFE/venv/lib/python3.6/site-packages/checklist/abstract_test.py\u001b[0m in \u001b[0;36mrun\u001b[0;34m(self, predict_and_confidence_fn, overwrite, verbose, n, seed)\u001b[0m\n\u001b[1;32m    368\u001b[0m         \u001b[0;32mif\u001b[0m \u001b[0mverbose\u001b[0m\u001b[0;34m:\u001b[0m\u001b[0;34m\u001b[0m\u001b[0;34m\u001b[0m\u001b[0m\n\u001b[1;32m    369\u001b[0m             \u001b[0mprint\u001b[0m\u001b[0;34m(\u001b[0m\u001b[0;34m'Predicting %d examples'\u001b[0m \u001b[0;34m%\u001b[0m \u001b[0mlen\u001b[0m\u001b[0;34m(\u001b[0m\u001b[0mexamples\u001b[0m\u001b[0;34m)\u001b[0m\u001b[0;34m)\u001b[0m\u001b[0;34m\u001b[0m\u001b[0;34m\u001b[0m\u001b[0m\n\u001b[0;32m--> 370\u001b[0;31m         \u001b[0mpreds\u001b[0m\u001b[0;34m,\u001b[0m \u001b[0mconfs\u001b[0m \u001b[0;34m=\u001b[0m \u001b[0mpredict_and_confidence_fn\u001b[0m\u001b[0;34m(\u001b[0m\u001b[0mexamples\u001b[0m\u001b[0;34m)\u001b[0m\u001b[0;34m\u001b[0m\u001b[0;34m\u001b[0m\u001b[0m\n\u001b[0m\u001b[1;32m    371\u001b[0m         \u001b[0mself\u001b[0m\u001b[0;34m.\u001b[0m\u001b[0mrun_from_preds_confs\u001b[0m\u001b[0;34m(\u001b[0m\u001b[0mpreds\u001b[0m\u001b[0;34m,\u001b[0m \u001b[0mconfs\u001b[0m\u001b[0;34m,\u001b[0m \u001b[0moverwrite\u001b[0m\u001b[0;34m=\u001b[0m\u001b[0moverwrite\u001b[0m\u001b[0;34m)\u001b[0m\u001b[0;34m\u001b[0m\u001b[0;34m\u001b[0m\u001b[0m\n\u001b[1;32m    372\u001b[0m \u001b[0;34m\u001b[0m\u001b[0m\n",
      "\u001b[0;32m<ipython-input-79-a0565c847a57>\u001b[0m in \u001b[0;36mget_classification\u001b[0;34m(sentences)\u001b[0m\n\u001b[1;32m      2\u001b[0m     \u001b[0mURL\u001b[0m \u001b[0;34m=\u001b[0m \u001b[0;34m\"http://teaching-pfe.francecentral.azurecontainer.io/api/classification\"\u001b[0m\u001b[0;34m\u001b[0m\u001b[0;34m\u001b[0m\u001b[0m\n\u001b[1;32m      3\u001b[0m     \u001b[0mLANG\u001b[0m \u001b[0;34m=\u001b[0m \u001b[0;34m\"fr-FR\"\u001b[0m\u001b[0;34m\u001b[0m\u001b[0;34m\u001b[0m\u001b[0m\n\u001b[0;32m----> 4\u001b[0;31m     \u001b[0mclassifs\u001b[0m \u001b[0;34m=\u001b[0m \u001b[0;34m[\u001b[0m\u001b[0mrequests\u001b[0m\u001b[0;34m.\u001b[0m\u001b[0mget\u001b[0m\u001b[0;34m(\u001b[0m\u001b[0;34mf\"{URL}?iso_language={LANG}&sentence={sentence}\"\u001b[0m\u001b[0;34m)\u001b[0m\u001b[0;34m.\u001b[0m\u001b[0mjson\u001b[0m\u001b[0;34m(\u001b[0m\u001b[0;34m)\u001b[0m\u001b[0;34m.\u001b[0m\u001b[0mget\u001b[0m\u001b[0;34m(\u001b[0m\u001b[0;34m\"classification\"\u001b[0m\u001b[0;34m)\u001b[0m \u001b[0;32mfor\u001b[0m \u001b[0msentence\u001b[0m \u001b[0;32min\u001b[0m \u001b[0msentences\u001b[0m\u001b[0;34m]\u001b[0m\u001b[0;34m\u001b[0m\u001b[0;34m\u001b[0m\u001b[0m\n\u001b[0m\u001b[1;32m      5\u001b[0m     \u001b[0;32mreturn\u001b[0m \u001b[0;34m(\u001b[0m\u001b[0mnp\u001b[0m\u001b[0;34m.\u001b[0m\u001b[0marray\u001b[0m\u001b[0;34m(\u001b[0m\u001b[0;34m[\u001b[0m\u001b[0mget_classif\u001b[0m\u001b[0;34m(\u001b[0m\u001b[0mc\u001b[0m\u001b[0;34m)\u001b[0m \u001b[0;32mfor\u001b[0m \u001b[0mc\u001b[0m \u001b[0;32min\u001b[0m \u001b[0mclassifs\u001b[0m\u001b[0;34m]\u001b[0m\u001b[0;34m)\u001b[0m\u001b[0;34m,\u001b[0m \u001b[0mnp\u001b[0m\u001b[0;34m.\u001b[0m\u001b[0marray\u001b[0m\u001b[0;34m(\u001b[0m\u001b[0;34m[\u001b[0m\u001b[0mget_softmax\u001b[0m\u001b[0;34m(\u001b[0m\u001b[0mc\u001b[0m\u001b[0;34m)\u001b[0m \u001b[0;32mfor\u001b[0m \u001b[0mc\u001b[0m \u001b[0;32min\u001b[0m \u001b[0mclassifs\u001b[0m\u001b[0;34m]\u001b[0m\u001b[0;34m)\u001b[0m\u001b[0;34m)\u001b[0m\u001b[0;34m\u001b[0m\u001b[0;34m\u001b[0m\u001b[0m\n",
      "\u001b[0;32m<ipython-input-79-a0565c847a57>\u001b[0m in \u001b[0;36m<listcomp>\u001b[0;34m(.0)\u001b[0m\n\u001b[1;32m      2\u001b[0m     \u001b[0mURL\u001b[0m \u001b[0;34m=\u001b[0m \u001b[0;34m\"http://teaching-pfe.francecentral.azurecontainer.io/api/classification\"\u001b[0m\u001b[0;34m\u001b[0m\u001b[0;34m\u001b[0m\u001b[0m\n\u001b[1;32m      3\u001b[0m     \u001b[0mLANG\u001b[0m \u001b[0;34m=\u001b[0m \u001b[0;34m\"fr-FR\"\u001b[0m\u001b[0;34m\u001b[0m\u001b[0;34m\u001b[0m\u001b[0m\n\u001b[0;32m----> 4\u001b[0;31m     \u001b[0mclassifs\u001b[0m \u001b[0;34m=\u001b[0m \u001b[0;34m[\u001b[0m\u001b[0mrequests\u001b[0m\u001b[0;34m.\u001b[0m\u001b[0mget\u001b[0m\u001b[0;34m(\u001b[0m\u001b[0;34mf\"{URL}?iso_language={LANG}&sentence={sentence}\"\u001b[0m\u001b[0;34m)\u001b[0m\u001b[0;34m.\u001b[0m\u001b[0mjson\u001b[0m\u001b[0;34m(\u001b[0m\u001b[0;34m)\u001b[0m\u001b[0;34m.\u001b[0m\u001b[0mget\u001b[0m\u001b[0;34m(\u001b[0m\u001b[0;34m\"classification\"\u001b[0m\u001b[0;34m)\u001b[0m \u001b[0;32mfor\u001b[0m \u001b[0msentence\u001b[0m \u001b[0;32min\u001b[0m \u001b[0msentences\u001b[0m\u001b[0;34m]\u001b[0m\u001b[0;34m\u001b[0m\u001b[0;34m\u001b[0m\u001b[0m\n\u001b[0m\u001b[1;32m      5\u001b[0m     \u001b[0;32mreturn\u001b[0m \u001b[0;34m(\u001b[0m\u001b[0mnp\u001b[0m\u001b[0;34m.\u001b[0m\u001b[0marray\u001b[0m\u001b[0;34m(\u001b[0m\u001b[0;34m[\u001b[0m\u001b[0mget_classif\u001b[0m\u001b[0;34m(\u001b[0m\u001b[0mc\u001b[0m\u001b[0;34m)\u001b[0m \u001b[0;32mfor\u001b[0m \u001b[0mc\u001b[0m \u001b[0;32min\u001b[0m \u001b[0mclassifs\u001b[0m\u001b[0;34m]\u001b[0m\u001b[0;34m)\u001b[0m\u001b[0;34m,\u001b[0m \u001b[0mnp\u001b[0m\u001b[0;34m.\u001b[0m\u001b[0marray\u001b[0m\u001b[0;34m(\u001b[0m\u001b[0;34m[\u001b[0m\u001b[0mget_softmax\u001b[0m\u001b[0;34m(\u001b[0m\u001b[0mc\u001b[0m\u001b[0;34m)\u001b[0m \u001b[0;32mfor\u001b[0m \u001b[0mc\u001b[0m \u001b[0;32min\u001b[0m \u001b[0mclassifs\u001b[0m\u001b[0;34m]\u001b[0m\u001b[0;34m)\u001b[0m\u001b[0;34m)\u001b[0m\u001b[0;34m\u001b[0m\u001b[0;34m\u001b[0m\u001b[0m\n",
      "\u001b[0;32m~/Documents/PFE/venv/lib/python3.6/site-packages/requests/api.py\u001b[0m in \u001b[0;36mget\u001b[0;34m(url, params, **kwargs)\u001b[0m\n\u001b[1;32m     74\u001b[0m \u001b[0;34m\u001b[0m\u001b[0m\n\u001b[1;32m     75\u001b[0m     \u001b[0mkwargs\u001b[0m\u001b[0;34m.\u001b[0m\u001b[0msetdefault\u001b[0m\u001b[0;34m(\u001b[0m\u001b[0;34m'allow_redirects'\u001b[0m\u001b[0;34m,\u001b[0m \u001b[0;32mTrue\u001b[0m\u001b[0;34m)\u001b[0m\u001b[0;34m\u001b[0m\u001b[0;34m\u001b[0m\u001b[0m\n\u001b[0;32m---> 76\u001b[0;31m     \u001b[0;32mreturn\u001b[0m \u001b[0mrequest\u001b[0m\u001b[0;34m(\u001b[0m\u001b[0;34m'get'\u001b[0m\u001b[0;34m,\u001b[0m \u001b[0murl\u001b[0m\u001b[0;34m,\u001b[0m \u001b[0mparams\u001b[0m\u001b[0;34m=\u001b[0m\u001b[0mparams\u001b[0m\u001b[0;34m,\u001b[0m \u001b[0;34m**\u001b[0m\u001b[0mkwargs\u001b[0m\u001b[0;34m)\u001b[0m\u001b[0;34m\u001b[0m\u001b[0;34m\u001b[0m\u001b[0m\n\u001b[0m\u001b[1;32m     77\u001b[0m \u001b[0;34m\u001b[0m\u001b[0m\n\u001b[1;32m     78\u001b[0m \u001b[0;34m\u001b[0m\u001b[0m\n",
      "\u001b[0;32m~/Documents/PFE/venv/lib/python3.6/site-packages/requests/api.py\u001b[0m in \u001b[0;36mrequest\u001b[0;34m(method, url, **kwargs)\u001b[0m\n\u001b[1;32m     59\u001b[0m     \u001b[0;31m# cases, and look like a memory leak in others.\u001b[0m\u001b[0;34m\u001b[0m\u001b[0;34m\u001b[0m\u001b[0;34m\u001b[0m\u001b[0m\n\u001b[1;32m     60\u001b[0m     \u001b[0;32mwith\u001b[0m \u001b[0msessions\u001b[0m\u001b[0;34m.\u001b[0m\u001b[0mSession\u001b[0m\u001b[0;34m(\u001b[0m\u001b[0;34m)\u001b[0m \u001b[0;32mas\u001b[0m \u001b[0msession\u001b[0m\u001b[0;34m:\u001b[0m\u001b[0;34m\u001b[0m\u001b[0;34m\u001b[0m\u001b[0m\n\u001b[0;32m---> 61\u001b[0;31m         \u001b[0;32mreturn\u001b[0m \u001b[0msession\u001b[0m\u001b[0;34m.\u001b[0m\u001b[0mrequest\u001b[0m\u001b[0;34m(\u001b[0m\u001b[0mmethod\u001b[0m\u001b[0;34m=\u001b[0m\u001b[0mmethod\u001b[0m\u001b[0;34m,\u001b[0m \u001b[0murl\u001b[0m\u001b[0;34m=\u001b[0m\u001b[0murl\u001b[0m\u001b[0;34m,\u001b[0m \u001b[0;34m**\u001b[0m\u001b[0mkwargs\u001b[0m\u001b[0;34m)\u001b[0m\u001b[0;34m\u001b[0m\u001b[0;34m\u001b[0m\u001b[0m\n\u001b[0m\u001b[1;32m     62\u001b[0m \u001b[0;34m\u001b[0m\u001b[0m\n\u001b[1;32m     63\u001b[0m \u001b[0;34m\u001b[0m\u001b[0m\n",
      "\u001b[0;32m~/Documents/PFE/venv/lib/python3.6/site-packages/requests/sessions.py\u001b[0m in \u001b[0;36mrequest\u001b[0;34m(self, method, url, params, data, headers, cookies, files, auth, timeout, allow_redirects, proxies, hooks, stream, verify, cert, json)\u001b[0m\n\u001b[1;32m    540\u001b[0m         }\n\u001b[1;32m    541\u001b[0m         \u001b[0msend_kwargs\u001b[0m\u001b[0;34m.\u001b[0m\u001b[0mupdate\u001b[0m\u001b[0;34m(\u001b[0m\u001b[0msettings\u001b[0m\u001b[0;34m)\u001b[0m\u001b[0;34m\u001b[0m\u001b[0;34m\u001b[0m\u001b[0m\n\u001b[0;32m--> 542\u001b[0;31m         \u001b[0mresp\u001b[0m \u001b[0;34m=\u001b[0m \u001b[0mself\u001b[0m\u001b[0;34m.\u001b[0m\u001b[0msend\u001b[0m\u001b[0;34m(\u001b[0m\u001b[0mprep\u001b[0m\u001b[0;34m,\u001b[0m \u001b[0;34m**\u001b[0m\u001b[0msend_kwargs\u001b[0m\u001b[0;34m)\u001b[0m\u001b[0;34m\u001b[0m\u001b[0;34m\u001b[0m\u001b[0m\n\u001b[0m\u001b[1;32m    543\u001b[0m \u001b[0;34m\u001b[0m\u001b[0m\n\u001b[1;32m    544\u001b[0m         \u001b[0;32mreturn\u001b[0m \u001b[0mresp\u001b[0m\u001b[0;34m\u001b[0m\u001b[0;34m\u001b[0m\u001b[0m\n",
      "\u001b[0;32m~/Documents/PFE/venv/lib/python3.6/site-packages/requests/sessions.py\u001b[0m in \u001b[0;36msend\u001b[0;34m(self, request, **kwargs)\u001b[0m\n\u001b[1;32m    653\u001b[0m \u001b[0;34m\u001b[0m\u001b[0m\n\u001b[1;32m    654\u001b[0m         \u001b[0;31m# Send the request\u001b[0m\u001b[0;34m\u001b[0m\u001b[0;34m\u001b[0m\u001b[0;34m\u001b[0m\u001b[0m\n\u001b[0;32m--> 655\u001b[0;31m         \u001b[0mr\u001b[0m \u001b[0;34m=\u001b[0m \u001b[0madapter\u001b[0m\u001b[0;34m.\u001b[0m\u001b[0msend\u001b[0m\u001b[0;34m(\u001b[0m\u001b[0mrequest\u001b[0m\u001b[0;34m,\u001b[0m \u001b[0;34m**\u001b[0m\u001b[0mkwargs\u001b[0m\u001b[0;34m)\u001b[0m\u001b[0;34m\u001b[0m\u001b[0;34m\u001b[0m\u001b[0m\n\u001b[0m\u001b[1;32m    656\u001b[0m \u001b[0;34m\u001b[0m\u001b[0m\n\u001b[1;32m    657\u001b[0m         \u001b[0;31m# Total elapsed time of the request (approximately)\u001b[0m\u001b[0;34m\u001b[0m\u001b[0;34m\u001b[0m\u001b[0;34m\u001b[0m\u001b[0m\n",
      "\u001b[0;32m~/Documents/PFE/venv/lib/python3.6/site-packages/requests/adapters.py\u001b[0m in \u001b[0;36msend\u001b[0;34m(self, request, stream, timeout, verify, cert, proxies)\u001b[0m\n\u001b[1;32m    447\u001b[0m                     \u001b[0mdecode_content\u001b[0m\u001b[0;34m=\u001b[0m\u001b[0;32mFalse\u001b[0m\u001b[0;34m,\u001b[0m\u001b[0;34m\u001b[0m\u001b[0;34m\u001b[0m\u001b[0m\n\u001b[1;32m    448\u001b[0m                     \u001b[0mretries\u001b[0m\u001b[0;34m=\u001b[0m\u001b[0mself\u001b[0m\u001b[0;34m.\u001b[0m\u001b[0mmax_retries\u001b[0m\u001b[0;34m,\u001b[0m\u001b[0;34m\u001b[0m\u001b[0;34m\u001b[0m\u001b[0m\n\u001b[0;32m--> 449\u001b[0;31m                     \u001b[0mtimeout\u001b[0m\u001b[0;34m=\u001b[0m\u001b[0mtimeout\u001b[0m\u001b[0;34m\u001b[0m\u001b[0;34m\u001b[0m\u001b[0m\n\u001b[0m\u001b[1;32m    450\u001b[0m                 )\n\u001b[1;32m    451\u001b[0m \u001b[0;34m\u001b[0m\u001b[0m\n",
      "\u001b[0;32m~/Documents/PFE/venv/lib/python3.6/site-packages/urllib3/connectionpool.py\u001b[0m in \u001b[0;36murlopen\u001b[0;34m(self, method, url, body, headers, retries, redirect, assert_same_host, timeout, pool_timeout, release_conn, chunked, body_pos, **response_kw)\u001b[0m\n\u001b[1;32m    704\u001b[0m                 \u001b[0mbody\u001b[0m\u001b[0;34m=\u001b[0m\u001b[0mbody\u001b[0m\u001b[0;34m,\u001b[0m\u001b[0;34m\u001b[0m\u001b[0;34m\u001b[0m\u001b[0m\n\u001b[1;32m    705\u001b[0m                 \u001b[0mheaders\u001b[0m\u001b[0;34m=\u001b[0m\u001b[0mheaders\u001b[0m\u001b[0;34m,\u001b[0m\u001b[0;34m\u001b[0m\u001b[0;34m\u001b[0m\u001b[0m\n\u001b[0;32m--> 706\u001b[0;31m                 \u001b[0mchunked\u001b[0m\u001b[0;34m=\u001b[0m\u001b[0mchunked\u001b[0m\u001b[0;34m,\u001b[0m\u001b[0;34m\u001b[0m\u001b[0;34m\u001b[0m\u001b[0m\n\u001b[0m\u001b[1;32m    707\u001b[0m             )\n\u001b[1;32m    708\u001b[0m \u001b[0;34m\u001b[0m\u001b[0m\n",
      "\u001b[0;32m~/Documents/PFE/venv/lib/python3.6/site-packages/urllib3/connectionpool.py\u001b[0m in \u001b[0;36m_make_request\u001b[0;34m(self, conn, method, url, timeout, chunked, **httplib_request_kw)\u001b[0m\n\u001b[1;32m    443\u001b[0m                     \u001b[0;31m# Python 3 (including for exceptions like SystemExit).\u001b[0m\u001b[0;34m\u001b[0m\u001b[0;34m\u001b[0m\u001b[0;34m\u001b[0m\u001b[0m\n\u001b[1;32m    444\u001b[0m                     \u001b[0;31m# Otherwise it looks like a bug in the code.\u001b[0m\u001b[0;34m\u001b[0m\u001b[0;34m\u001b[0m\u001b[0;34m\u001b[0m\u001b[0m\n\u001b[0;32m--> 445\u001b[0;31m                     \u001b[0msix\u001b[0m\u001b[0;34m.\u001b[0m\u001b[0mraise_from\u001b[0m\u001b[0;34m(\u001b[0m\u001b[0me\u001b[0m\u001b[0;34m,\u001b[0m \u001b[0;32mNone\u001b[0m\u001b[0;34m)\u001b[0m\u001b[0;34m\u001b[0m\u001b[0;34m\u001b[0m\u001b[0m\n\u001b[0m\u001b[1;32m    446\u001b[0m         \u001b[0;32mexcept\u001b[0m \u001b[0;34m(\u001b[0m\u001b[0mSocketTimeout\u001b[0m\u001b[0;34m,\u001b[0m \u001b[0mBaseSSLError\u001b[0m\u001b[0;34m,\u001b[0m \u001b[0mSocketError\u001b[0m\u001b[0;34m)\u001b[0m \u001b[0;32mas\u001b[0m \u001b[0me\u001b[0m\u001b[0;34m:\u001b[0m\u001b[0;34m\u001b[0m\u001b[0;34m\u001b[0m\u001b[0m\n\u001b[1;32m    447\u001b[0m             \u001b[0mself\u001b[0m\u001b[0;34m.\u001b[0m\u001b[0m_raise_timeout\u001b[0m\u001b[0;34m(\u001b[0m\u001b[0merr\u001b[0m\u001b[0;34m=\u001b[0m\u001b[0me\u001b[0m\u001b[0;34m,\u001b[0m \u001b[0murl\u001b[0m\u001b[0;34m=\u001b[0m\u001b[0murl\u001b[0m\u001b[0;34m,\u001b[0m \u001b[0mtimeout_value\u001b[0m\u001b[0;34m=\u001b[0m\u001b[0mread_timeout\u001b[0m\u001b[0;34m)\u001b[0m\u001b[0;34m\u001b[0m\u001b[0;34m\u001b[0m\u001b[0m\n",
      "\u001b[0;32m~/Documents/PFE/venv/lib/python3.6/site-packages/urllib3/packages/six.py\u001b[0m in \u001b[0;36mraise_from\u001b[0;34m(value, from_value)\u001b[0m\n",
      "\u001b[0;32m~/Documents/PFE/venv/lib/python3.6/site-packages/urllib3/connectionpool.py\u001b[0m in \u001b[0;36m_make_request\u001b[0;34m(self, conn, method, url, timeout, chunked, **httplib_request_kw)\u001b[0m\n\u001b[1;32m    438\u001b[0m                 \u001b[0;31m# Python 3\u001b[0m\u001b[0;34m\u001b[0m\u001b[0;34m\u001b[0m\u001b[0;34m\u001b[0m\u001b[0m\n\u001b[1;32m    439\u001b[0m                 \u001b[0;32mtry\u001b[0m\u001b[0;34m:\u001b[0m\u001b[0;34m\u001b[0m\u001b[0;34m\u001b[0m\u001b[0m\n\u001b[0;32m--> 440\u001b[0;31m                     \u001b[0mhttplib_response\u001b[0m \u001b[0;34m=\u001b[0m \u001b[0mconn\u001b[0m\u001b[0;34m.\u001b[0m\u001b[0mgetresponse\u001b[0m\u001b[0;34m(\u001b[0m\u001b[0;34m)\u001b[0m\u001b[0;34m\u001b[0m\u001b[0;34m\u001b[0m\u001b[0m\n\u001b[0m\u001b[1;32m    441\u001b[0m                 \u001b[0;32mexcept\u001b[0m \u001b[0mBaseException\u001b[0m \u001b[0;32mas\u001b[0m \u001b[0me\u001b[0m\u001b[0;34m:\u001b[0m\u001b[0;34m\u001b[0m\u001b[0;34m\u001b[0m\u001b[0m\n\u001b[1;32m    442\u001b[0m                     \u001b[0;31m# Remove the TypeError from the exception chain in\u001b[0m\u001b[0;34m\u001b[0m\u001b[0;34m\u001b[0m\u001b[0;34m\u001b[0m\u001b[0m\n",
      "\u001b[0;32m/usr/lib/python3.6/http/client.py\u001b[0m in \u001b[0;36mgetresponse\u001b[0;34m(self)\u001b[0m\n\u001b[1;32m   1371\u001b[0m         \u001b[0;32mtry\u001b[0m\u001b[0;34m:\u001b[0m\u001b[0;34m\u001b[0m\u001b[0;34m\u001b[0m\u001b[0m\n\u001b[1;32m   1372\u001b[0m             \u001b[0;32mtry\u001b[0m\u001b[0;34m:\u001b[0m\u001b[0;34m\u001b[0m\u001b[0;34m\u001b[0m\u001b[0m\n\u001b[0;32m-> 1373\u001b[0;31m                 \u001b[0mresponse\u001b[0m\u001b[0;34m.\u001b[0m\u001b[0mbegin\u001b[0m\u001b[0;34m(\u001b[0m\u001b[0;34m)\u001b[0m\u001b[0;34m\u001b[0m\u001b[0;34m\u001b[0m\u001b[0m\n\u001b[0m\u001b[1;32m   1374\u001b[0m             \u001b[0;32mexcept\u001b[0m \u001b[0mConnectionError\u001b[0m\u001b[0;34m:\u001b[0m\u001b[0;34m\u001b[0m\u001b[0;34m\u001b[0m\u001b[0m\n\u001b[1;32m   1375\u001b[0m                 \u001b[0mself\u001b[0m\u001b[0;34m.\u001b[0m\u001b[0mclose\u001b[0m\u001b[0;34m(\u001b[0m\u001b[0;34m)\u001b[0m\u001b[0;34m\u001b[0m\u001b[0;34m\u001b[0m\u001b[0m\n",
      "\u001b[0;32m/usr/lib/python3.6/http/client.py\u001b[0m in \u001b[0;36mbegin\u001b[0;34m(self)\u001b[0m\n\u001b[1;32m    309\u001b[0m         \u001b[0;31m# read until we get a non-100 response\u001b[0m\u001b[0;34m\u001b[0m\u001b[0;34m\u001b[0m\u001b[0;34m\u001b[0m\u001b[0m\n\u001b[1;32m    310\u001b[0m         \u001b[0;32mwhile\u001b[0m \u001b[0;32mTrue\u001b[0m\u001b[0;34m:\u001b[0m\u001b[0;34m\u001b[0m\u001b[0;34m\u001b[0m\u001b[0m\n\u001b[0;32m--> 311\u001b[0;31m             \u001b[0mversion\u001b[0m\u001b[0;34m,\u001b[0m \u001b[0mstatus\u001b[0m\u001b[0;34m,\u001b[0m \u001b[0mreason\u001b[0m \u001b[0;34m=\u001b[0m \u001b[0mself\u001b[0m\u001b[0;34m.\u001b[0m\u001b[0m_read_status\u001b[0m\u001b[0;34m(\u001b[0m\u001b[0;34m)\u001b[0m\u001b[0;34m\u001b[0m\u001b[0;34m\u001b[0m\u001b[0m\n\u001b[0m\u001b[1;32m    312\u001b[0m             \u001b[0;32mif\u001b[0m \u001b[0mstatus\u001b[0m \u001b[0;34m!=\u001b[0m \u001b[0mCONTINUE\u001b[0m\u001b[0;34m:\u001b[0m\u001b[0;34m\u001b[0m\u001b[0;34m\u001b[0m\u001b[0m\n\u001b[1;32m    313\u001b[0m                 \u001b[0;32mbreak\u001b[0m\u001b[0;34m\u001b[0m\u001b[0;34m\u001b[0m\u001b[0m\n",
      "\u001b[0;32m/usr/lib/python3.6/http/client.py\u001b[0m in \u001b[0;36m_read_status\u001b[0;34m(self)\u001b[0m\n\u001b[1;32m    270\u001b[0m \u001b[0;34m\u001b[0m\u001b[0m\n\u001b[1;32m    271\u001b[0m     \u001b[0;32mdef\u001b[0m \u001b[0m_read_status\u001b[0m\u001b[0;34m(\u001b[0m\u001b[0mself\u001b[0m\u001b[0;34m)\u001b[0m\u001b[0;34m:\u001b[0m\u001b[0;34m\u001b[0m\u001b[0;34m\u001b[0m\u001b[0m\n\u001b[0;32m--> 272\u001b[0;31m         \u001b[0mline\u001b[0m \u001b[0;34m=\u001b[0m \u001b[0mstr\u001b[0m\u001b[0;34m(\u001b[0m\u001b[0mself\u001b[0m\u001b[0;34m.\u001b[0m\u001b[0mfp\u001b[0m\u001b[0;34m.\u001b[0m\u001b[0mreadline\u001b[0m\u001b[0;34m(\u001b[0m\u001b[0m_MAXLINE\u001b[0m \u001b[0;34m+\u001b[0m \u001b[0;36m1\u001b[0m\u001b[0;34m)\u001b[0m\u001b[0;34m,\u001b[0m \u001b[0;34m\"iso-8859-1\"\u001b[0m\u001b[0;34m)\u001b[0m\u001b[0;34m\u001b[0m\u001b[0;34m\u001b[0m\u001b[0m\n\u001b[0m\u001b[1;32m    273\u001b[0m         \u001b[0;32mif\u001b[0m \u001b[0mlen\u001b[0m\u001b[0;34m(\u001b[0m\u001b[0mline\u001b[0m\u001b[0;34m)\u001b[0m \u001b[0;34m>\u001b[0m \u001b[0m_MAXLINE\u001b[0m\u001b[0;34m:\u001b[0m\u001b[0;34m\u001b[0m\u001b[0;34m\u001b[0m\u001b[0m\n\u001b[1;32m    274\u001b[0m             \u001b[0;32mraise\u001b[0m \u001b[0mLineTooLong\u001b[0m\u001b[0;34m(\u001b[0m\u001b[0;34m\"status line\"\u001b[0m\u001b[0;34m)\u001b[0m\u001b[0;34m\u001b[0m\u001b[0;34m\u001b[0m\u001b[0m\n",
      "\u001b[0;32m/usr/lib/python3.6/socket.py\u001b[0m in \u001b[0;36mreadinto\u001b[0;34m(self, b)\u001b[0m\n\u001b[1;32m    584\u001b[0m         \u001b[0;32mwhile\u001b[0m \u001b[0;32mTrue\u001b[0m\u001b[0;34m:\u001b[0m\u001b[0;34m\u001b[0m\u001b[0;34m\u001b[0m\u001b[0m\n\u001b[1;32m    585\u001b[0m             \u001b[0;32mtry\u001b[0m\u001b[0;34m:\u001b[0m\u001b[0;34m\u001b[0m\u001b[0;34m\u001b[0m\u001b[0m\n\u001b[0;32m--> 586\u001b[0;31m                 \u001b[0;32mreturn\u001b[0m \u001b[0mself\u001b[0m\u001b[0;34m.\u001b[0m\u001b[0m_sock\u001b[0m\u001b[0;34m.\u001b[0m\u001b[0mrecv_into\u001b[0m\u001b[0;34m(\u001b[0m\u001b[0mb\u001b[0m\u001b[0;34m)\u001b[0m\u001b[0;34m\u001b[0m\u001b[0;34m\u001b[0m\u001b[0m\n\u001b[0m\u001b[1;32m    587\u001b[0m             \u001b[0;32mexcept\u001b[0m \u001b[0mtimeout\u001b[0m\u001b[0;34m:\u001b[0m\u001b[0;34m\u001b[0m\u001b[0;34m\u001b[0m\u001b[0m\n\u001b[1;32m    588\u001b[0m                 \u001b[0mself\u001b[0m\u001b[0;34m.\u001b[0m\u001b[0m_timeout_occurred\u001b[0m \u001b[0;34m=\u001b[0m \u001b[0;32mTrue\u001b[0m\u001b[0;34m\u001b[0m\u001b[0;34m\u001b[0m\u001b[0m\n",
      "\u001b[0;31mKeyboardInterrupt\u001b[0m: "
     ]
    }
   ],
   "source": [
    "start = datetime.now()\n",
    "test_MFT_switch.run(get_classification, overwrite=True)\n",
    "end = datetime.now()\n",
    "print(f\"Execution time : {end - start}\")  # estimation : 2h15min"
   ]
  },
  {
   "cell_type": "code",
   "execution_count": 105,
   "metadata": {
    "id": "L3ko_Q1f4Oju"
   },
   "outputs": [
    {
     "name": "stdout",
     "output_type": "stream",
     "text": [
      "Test cases:      10\n",
      "Fails (rate):    5 (50.0%)\n",
      "\n",
      "Example fails:\n",
      "35 (0.1) Ce est que me tu peux dire en détails que ce tu sais faire?\n",
      "----\n",
      "35 (0.0) Est ce que tu peux dire me en que détails ce tu faire sais?\n",
      "----\n",
      "35 (0.0) Est ce tu me que peux en dire détails ce que tu sais faire?\n",
      "----\n"
     ]
    }
   ],
   "source": [
    "test_MFT_switch.summary()"
   ]
  },
  {
   "cell_type": "markdown",
   "metadata": {
    "id": "MeKiPv4Hrklx"
   },
   "source": [
    "## INV"
   ]
  },
  {
   "cell_type": "markdown",
   "metadata": {
    "id": "FRm3C1pm5GOm"
   },
   "source": [
    "### Typographie faults"
   ]
  },
  {
   "cell_type": "code",
   "execution_count": 127,
   "metadata": {
    "id": "H5ySE85yrn8i"
   },
   "outputs": [
    {
     "name": "stdout",
     "output_type": "stream",
     "text": [
      "samples - [['Est ce que tu peux me dire en détails ce que tu sais faire ?', 'Est ce que tu pDux me dLre en cé$ails ce que tu sais Baire?'], ['Est ce que tu peux me dire en détails ce que tu sais faire ?', 'Est ce que tu peuw me Eire en détaLlx ce que tu sais fa1re?']]\n"
     ]
    }
   ],
   "source": [
    "t_typo = { \"data\":[[item.get(\"sentence\"), keyboard_sentence] for item in data \n",
    "                                                            for keyboard_sentence in item.get(\"keyboard_aug\")]}\n",
    "\n",
    "print(f\"samples - {t_typo.get('data')[:2]}\")"
   ]
  },
  {
   "cell_type": "code",
   "execution_count": 128,
   "metadata": {
    "id": "EPO-jjgN5Mk2"
   },
   "outputs": [],
   "source": [
    "test_INV_typo = INV(**t_typo, name=\"typo augmentation\", description=\"test with data augmentation with typo\")"
   ]
  },
  {
   "cell_type": "code",
   "execution_count": null,
   "metadata": {},
   "outputs": [
    {
     "name": "stdout",
     "output_type": "stream",
     "text": [
      "Predicting 53950 examples\n"
     ]
    }
   ],
   "source": [
    "start = datetime.now()\n",
    "test_INV_typo.run(get_classification, overwrite=True)\n",
    "end = datetime.now()\n",
    "print(f\"Execution time : {end - start}\")  # estimation : 5h"
   ]
  },
  {
   "cell_type": "code",
   "execution_count": 110,
   "metadata": {
    "id": "Md47sc095OhU"
   },
   "outputs": [],
   "source": [
    "#test_INV_typo.summary()"
   ]
  },
  {
   "cell_type": "markdown",
   "metadata": {
    "id": "GHhYcnN45VpN"
   },
   "source": [
    "### Switching words' positions"
   ]
  },
  {
   "cell_type": "code",
   "execution_count": 22,
   "metadata": {
    "id": "9U9-mSrc5Ui0"
   },
   "outputs": [
    {
     "name": "stdout",
     "output_type": "stream",
     "text": [
      "samples - [[\"Trop envie de me remplir la panse ce midi, t'as des bons plans à proposer ? 😏\", \"Trop de envie me remplir la ce panse midi, ' t bons des as plans à proposer? 😏\"], [\"Trop envie de me remplir la panse ce midi, t'as des bons plans à proposer ? 😏\", \"Trop envie de remplir la me panse ce midi, t as ' des plans bons à proposer? 😏\"]]\n"
     ]
    }
   ],
   "source": [
    "t_switch = { \"data\":[[item.get(\"sentence\"), swap_sentence] for item in data \n",
    "                     for swap_sentence in item.get(\"wordswap_aug\")] }\n",
    "\n",
    "print(f\"samples - {t_switch.get('data')[:2]}\")"
   ]
  },
  {
   "cell_type": "code",
   "execution_count": 23,
   "metadata": {
    "id": "zzkfwuvx8UF7"
   },
   "outputs": [
    {
     "name": "stdout",
     "output_type": "stream",
     "text": [
      "Predicting 20 examples\n"
     ]
    }
   ],
   "source": [
    "test_INV_switch = INV(**t_switch, name=\"switch augmentation\", description=\"test with data augmentation with swap words\")"
   ]
  },
  {
   "cell_type": "code",
   "execution_count": null,
   "metadata": {},
   "outputs": [],
   "source": [
    "start = datetime.now()\n",
    "test_INV_switch.run(get_classification, overwrite=True)\n",
    "end = datetime.now()\n",
    "print(f\"Execution time : {end - start}\")  # estimation : 2h15min# estimation : 5h"
   ]
  },
  {
   "cell_type": "code",
   "execution_count": 24,
   "metadata": {
    "id": "qkBMlcNG8bgl"
   },
   "outputs": [
    {
     "name": "stdout",
     "output_type": "stream",
     "text": [
      "Test cases:      10\n",
      "Fails (rate):    0 (0.0%)\n"
     ]
    }
   ],
   "source": [
    "test_INV_switch.summary()"
   ]
  },
  {
   "cell_type": "markdown",
   "metadata": {
    "id": "4SjbrKNT8p7I"
   },
   "source": [
    "# Visualisation"
   ]
  },
  {
   "cell_type": "markdown",
   "metadata": {
    "id": "L4g4VJ3Z8vdX"
   },
   "source": [
    "## Original dataset"
   ]
  },
  {
   "cell_type": "code",
   "execution_count": 111,
   "metadata": {
    "colab": {
     "base_uri": "https://localhost:8080/",
     "height": 17,
     "referenced_widgets": [
      "e148e76327224cdb923ab226133fa973"
     ]
    },
    "executionInfo": {
     "elapsed": 1000,
     "status": "ok",
     "timestamp": 1607038595035,
     "user": {
      "displayName": "Maelle Cloarec",
      "photoUrl": "",
      "userId": "04556824091212731934"
     },
     "user_tz": -60
    },
    "id": "_lPYc8wS8y2F",
    "outputId": "6bbe39c5-365a-4336-b275-121a2ca343f0"
   },
   "outputs": [
    {
     "data": {
      "application/vnd.jupyter.widget-view+json": {
       "model_id": "f4f78c3950744a3aa6997584a55e6709",
       "version_major": 2,
       "version_minor": 0
      },
      "text/plain": [
       "TestSummarizer(stats={'npassed': 1, 'nfailed': 1, 'nfiltered': 0}, summarizer={'name': 'original dataset', 'de…"
      ]
     },
     "metadata": {},
     "output_type": "display_data"
    }
   ],
   "source": [
    "test_MFT_original.visual_summary()"
   ]
  },
  {
   "cell_type": "markdown",
   "metadata": {
    "id": "pW76NSID83uj"
   },
   "source": [
    "## Typo"
   ]
  },
  {
   "cell_type": "code",
   "execution_count": 112,
   "metadata": {
    "colab": {
     "base_uri": "https://localhost:8080/",
     "height": 17,
     "referenced_widgets": [
      "74d2e4b21ce94e7193662aba0b0de34d"
     ]
    },
    "executionInfo": {
     "elapsed": 1223,
     "status": "ok",
     "timestamp": 1607038596291,
     "user": {
      "displayName": "Maelle Cloarec",
      "photoUrl": "",
      "userId": "04556824091212731934"
     },
     "user_tz": -60
    },
    "id": "7babe0i085rc",
    "outputId": "70e8d8ff-3299-4a59-9a48-2b40cc85e0eb"
   },
   "outputs": [
    {
     "data": {
      "application/vnd.jupyter.widget-view+json": {
       "model_id": "4f03b795396540d18819c80aca7c5dd5",
       "version_major": 2,
       "version_minor": 0
      },
      "text/plain": [
       "TestSummarizer(stats={'npassed': 2, 'nfailed': 8, 'nfiltered': 0}, summarizer={'name': 'typo', 'description': …"
      ]
     },
     "metadata": {},
     "output_type": "display_data"
    }
   ],
   "source": [
    "test_MFT_typo.visual_summary()"
   ]
  },
  {
   "cell_type": "code",
   "execution_count": 113,
   "metadata": {
    "colab": {
     "base_uri": "https://localhost:8080/",
     "height": 17,
     "referenced_widgets": [
      "4826f21a2a56425bb8c950f876831ba0"
     ]
    },
    "executionInfo": {
     "elapsed": 1294,
     "status": "ok",
     "timestamp": 1607038596726,
     "user": {
      "displayName": "Maelle Cloarec",
      "photoUrl": "",
      "userId": "04556824091212731934"
     },
     "user_tz": -60
    },
    "id": "2z2iSkCo9Fqj",
    "outputId": "c598b51a-0206-4f22-b49f-c402c494f469"
   },
   "outputs": [
    {
     "data": {
      "application/vnd.jupyter.widget-view+json": {
       "model_id": "b34600fded14438e815cb7cc162b7ef5",
       "version_major": 2,
       "version_minor": 0
      },
      "text/plain": [
       "TestSummarizer(stats={'npassed': 6, 'nfailed': 4, 'nfiltered': 0}, summarizer={'name': 'typo augmentation', 'd…"
      ]
     },
     "metadata": {},
     "output_type": "display_data"
    }
   ],
   "source": [
    "test_INV_typo.visual_summary()"
   ]
  },
  {
   "cell_type": "markdown",
   "metadata": {
    "id": "Vh_rjtQt9H6b"
   },
   "source": [
    "## Switch\n",
    "\n"
   ]
  },
  {
   "cell_type": "code",
   "execution_count": 130,
   "metadata": {
    "colab": {
     "base_uri": "https://localhost:8080/",
     "height": 17,
     "referenced_widgets": [
      "f2fbfd9b550c48238a7a426eb2587f41"
     ]
    },
    "executionInfo": {
     "elapsed": 971,
     "status": "ok",
     "timestamp": 1607038605883,
     "user": {
      "displayName": "Maelle Cloarec",
      "photoUrl": "",
      "userId": "04556824091212731934"
     },
     "user_tz": -60
    },
    "id": "CB6IqG0d9QfC",
    "outputId": "bd762e81-14c6-4e94-fa30-b18b296ae47d"
   },
   "outputs": [
    {
     "ename": "Exception",
     "evalue": "No results. Run run() first",
     "output_type": "error",
     "traceback": [
      "\u001b[0;31m---------------------------------------------------------------------------\u001b[0m",
      "\u001b[0;31mException\u001b[0m                                 Traceback (most recent call last)",
      "\u001b[0;32m<ipython-input-130-f5f499872dc4>\u001b[0m in \u001b[0;36m<module>\u001b[0;34m\u001b[0m\n\u001b[0;32m----> 1\u001b[0;31m \u001b[0mtest_MFT_switch\u001b[0m\u001b[0;34m.\u001b[0m\u001b[0mvisual_summary\u001b[0m\u001b[0;34m(\u001b[0m\u001b[0;34m)\u001b[0m\u001b[0;34m\u001b[0m\u001b[0;34m\u001b[0m\u001b[0m\n\u001b[0m",
      "\u001b[0;32m~/Documents/PFE/venv/lib/python3.6/site-packages/checklist/abstract_test.py\u001b[0m in \u001b[0;36mvisual_summary\u001b[0;34m(self, name, description, capability, n_per_testcase)\u001b[0m\n\u001b[1;32m    552\u001b[0m \u001b[0;34m\u001b[0m\u001b[0m\n\u001b[1;32m    553\u001b[0m     \u001b[0;32mdef\u001b[0m \u001b[0mvisual_summary\u001b[0m\u001b[0;34m(\u001b[0m\u001b[0mself\u001b[0m\u001b[0;34m,\u001b[0m \u001b[0mname\u001b[0m\u001b[0;34m=\u001b[0m\u001b[0;32mNone\u001b[0m\u001b[0;34m,\u001b[0m \u001b[0mdescription\u001b[0m\u001b[0;34m=\u001b[0m\u001b[0;32mNone\u001b[0m\u001b[0;34m,\u001b[0m \u001b[0mcapability\u001b[0m\u001b[0;34m=\u001b[0m\u001b[0;32mNone\u001b[0m\u001b[0;34m,\u001b[0m \u001b[0mn_per_testcase\u001b[0m\u001b[0;34m=\u001b[0m\u001b[0;36m3\u001b[0m\u001b[0;34m)\u001b[0m\u001b[0;34m:\u001b[0m\u001b[0;34m\u001b[0m\u001b[0;34m\u001b[0m\u001b[0m\n\u001b[0;32m--> 554\u001b[0;31m         \u001b[0mself\u001b[0m\u001b[0;34m.\u001b[0m\u001b[0m_check_results\u001b[0m\u001b[0;34m(\u001b[0m\u001b[0;34m)\u001b[0m\u001b[0;34m\u001b[0m\u001b[0;34m\u001b[0m\u001b[0m\n\u001b[0m\u001b[1;32m    555\u001b[0m         \u001b[0;31m# get the test meta\u001b[0m\u001b[0;34m\u001b[0m\u001b[0;34m\u001b[0m\u001b[0;34m\u001b[0m\u001b[0m\n\u001b[1;32m    556\u001b[0m         \u001b[0mtest_info\u001b[0m \u001b[0;34m=\u001b[0m \u001b[0mself\u001b[0m\u001b[0;34m.\u001b[0m\u001b[0mform_test_info\u001b[0m\u001b[0;34m(\u001b[0m\u001b[0mname\u001b[0m\u001b[0;34m,\u001b[0m \u001b[0mdescription\u001b[0m\u001b[0;34m,\u001b[0m \u001b[0mcapability\u001b[0m\u001b[0;34m)\u001b[0m\u001b[0;34m\u001b[0m\u001b[0;34m\u001b[0m\u001b[0m\n",
      "\u001b[0;32m~/Documents/PFE/venv/lib/python3.6/site-packages/checklist/abstract_test.py\u001b[0m in \u001b[0;36m_check_results\u001b[0;34m(self)\u001b[0m\n\u001b[1;32m    287\u001b[0m     \u001b[0;32mdef\u001b[0m \u001b[0m_check_results\u001b[0m\u001b[0;34m(\u001b[0m\u001b[0mself\u001b[0m\u001b[0;34m)\u001b[0m\u001b[0;34m:\u001b[0m\u001b[0;34m\u001b[0m\u001b[0;34m\u001b[0m\u001b[0m\n\u001b[1;32m    288\u001b[0m         \u001b[0;32mif\u001b[0m \u001b[0;32mnot\u001b[0m \u001b[0mself\u001b[0m\u001b[0;34m.\u001b[0m\u001b[0m_results_exist\u001b[0m\u001b[0;34m(\u001b[0m\u001b[0;34m)\u001b[0m\u001b[0;34m:\u001b[0m\u001b[0;34m\u001b[0m\u001b[0;34m\u001b[0m\u001b[0m\n\u001b[0;32m--> 289\u001b[0;31m             \u001b[0;32mraise\u001b[0m\u001b[0;34m(\u001b[0m\u001b[0mException\u001b[0m\u001b[0;34m(\u001b[0m\u001b[0;34m'No results. Run run() first'\u001b[0m\u001b[0;34m)\u001b[0m\u001b[0;34m)\u001b[0m\u001b[0;34m\u001b[0m\u001b[0;34m\u001b[0m\u001b[0m\n\u001b[0m\u001b[1;32m    290\u001b[0m \u001b[0;34m\u001b[0m\u001b[0m\n\u001b[1;32m    291\u001b[0m     \u001b[0;32mdef\u001b[0m \u001b[0m_check_create_results\u001b[0m\u001b[0;34m(\u001b[0m\u001b[0mself\u001b[0m\u001b[0;34m,\u001b[0m \u001b[0moverwrite\u001b[0m\u001b[0;34m,\u001b[0m \u001b[0mcheck_only\u001b[0m\u001b[0;34m=\u001b[0m\u001b[0;32mFalse\u001b[0m\u001b[0;34m)\u001b[0m\u001b[0;34m:\u001b[0m\u001b[0;34m\u001b[0m\u001b[0;34m\u001b[0m\u001b[0m\n",
      "\u001b[0;31mException\u001b[0m: No results. Run run() first"
     ]
    }
   ],
   "source": [
    "test_MFT_switch.visual_summary()"
   ]
  },
  {
   "cell_type": "code",
   "execution_count": 115,
   "metadata": {
    "colab": {
     "base_uri": "https://localhost:8080/",
     "height": 17,
     "referenced_widgets": [
      "d1543255d39f44f7a42a8faf727b3a7a"
     ]
    },
    "executionInfo": {
     "elapsed": 971,
     "status": "ok",
     "timestamp": 1607038598422,
     "user": {
      "displayName": "Maelle Cloarec",
      "photoUrl": "",
      "userId": "04556824091212731934"
     },
     "user_tz": -60
    },
    "id": "fKQp5b4w9TsK",
    "outputId": "0b49ce23-e096-428b-89bf-0a808c88d78e"
   },
   "outputs": [
    {
     "data": {
      "application/vnd.jupyter.widget-view+json": {
       "model_id": "85be24cc2e1b4a419566841f285809ad",
       "version_major": 2,
       "version_minor": 0
      },
      "text/plain": [
       "TestSummarizer(stats={'npassed': 10, 'nfailed': 0, 'nfiltered': 0}, summarizer={'name': 'switch augmentation',…"
      ]
     },
     "metadata": {},
     "output_type": "display_data"
    }
   ],
   "source": [
    "test_INV_switch.visual_summary()"
   ]
  },
  {
   "cell_type": "code",
   "execution_count": 51,
   "metadata": {},
   "outputs": [
    {
     "data": {
      "application/vnd.jupyter.widget-view+json": {
       "model_id": "294bb441f0624a63a557bead384043e1",
       "version_major": 2,
       "version_minor": 0
      },
      "text/plain": [
       "TestSummarizer(stats={'npassed': 6, 'nfailed': 4, 'nfiltered': 0}, summarizer={'name': 'typo augmentation', 'd…"
      ]
     },
     "metadata": {},
     "output_type": "display_data"
    }
   ],
   "source": []
  }
 ],
 "metadata": {
  "colab": {
   "authorship_tag": "ABX9TyMmIRgoyHJnkXrj2WRqz5iZ",
   "collapsed_sections": [],
   "name": "checklist_typo_switch.ipynb",
   "provenance": [],
   "toc_visible": true
  },
  "kernelspec": {
   "display_name": "Python 3",
   "language": "python",
   "name": "python3"
  },
  "language_info": {
   "codemirror_mode": {
    "name": "ipython",
    "version": 3
   },
   "file_extension": ".py",
   "mimetype": "text/x-python",
   "name": "python",
   "nbconvert_exporter": "python",
   "pygments_lexer": "ipython3",
   "version": "3.6.9"
  },
  "widgets": {
   "application/vnd.jupyter.widget-state+json": {
    "4826f21a2a56425bb8c950f876831ba0": {
     "model_module": "viewer",
     "model_name": "TestSummarizerModel",
     "state": {
      "_dom_classes": [],
      "_model_module": "viewer",
      "_model_module_version": "^0.1.0",
      "_model_name": "TestSummarizerModel",
      "_view_count": null,
      "_view_module": "viewer",
      "_view_module_version": "^0.1.0",
      "_view_name": "TestSummarizerView",
      "layout": "IPY_MODEL_30bce65cddad45d1b956cc2a18dbf1a2",
      "stats": {
       "nfailed": 0,
       "nfiltered": 0,
       "npassed": 5
      },
      "summarizer": {
       "capability": null,
       "description": "test with data augmentation with typo",
       "name": "typo augmentation",
       "stats": {
        "nfailed": 0,
        "nfiltered": 0,
        "npassed": 5
       },
       "tags": [],
       "type": "inv"
      },
      "testcases": []
     }
    },
    "74d2e4b21ce94e7193662aba0b0de34d": {
     "model_module": "viewer",
     "model_name": "TestSummarizerModel",
     "state": {
      "_dom_classes": [],
      "_model_module": "viewer",
      "_model_module_version": "^0.1.0",
      "_model_name": "TestSummarizerModel",
      "_view_count": null,
      "_view_module": "viewer",
      "_view_module_version": "^0.1.0",
      "_view_name": "TestSummarizerView",
      "layout": "IPY_MODEL_0c0ab36544a34d9199088c572675937d",
      "stats": {
       "nfailed": 1,
       "nfiltered": 0,
       "npassed": 4
      },
      "summarizer": {
       "capability": "None",
       "description": " data aug with typo",
       "name": "typo",
       "stats": {
        "nfailed": 1,
        "nfiltered": 0,
        "npassed": 4
       },
       "tags": [],
       "type": "mft"
      },
      "testcases": [
       {
        "examples": [
         {
          "label": 29,
          "new": {
           "conf": 0.53,
           "pred": "10",
           "text": "Peux tu me dojner les horaires D&ances cinéma du gilm hostiles daBs les salles du 12 ieùe arrondissement de PaDis?",
           "tokens": [
            [
             "Peux",
             "tu",
             "me",
             "dojner",
             "les",
             "horaires",
             "D&ances",
             "cinéma",
             "du",
             "gilm",
             "hostiles",
             "daBs",
             "les",
             "salles",
             "du",
             "12",
             "ieùe",
             "arrondissement",
             "de",
             "PaDis",
             "?"
            ]
           ]
          },
          "old": null,
          "succeed": 0
         }
        ],
        "succeed": 0,
        "tags": []
       }
      ]
     }
    },
    "d1543255d39f44f7a42a8faf727b3a7a": {
     "model_module": "viewer",
     "model_name": "TestSummarizerModel",
     "state": {
      "_dom_classes": [],
      "_model_module": "viewer",
      "_model_module_version": "^0.1.0",
      "_model_name": "TestSummarizerModel",
      "_view_count": null,
      "_view_module": "viewer",
      "_view_module_version": "^0.1.0",
      "_view_name": "TestSummarizerView",
      "layout": "IPY_MODEL_49087e4b9dd042a4a5e9ad8582b8f346",
      "stats": {
       "nfailed": 0,
       "nfiltered": 0,
       "npassed": 5
      },
      "summarizer": {
       "capability": null,
       "description": "test with data augmentation with swap words",
       "name": "switch augmentation",
       "stats": {
        "nfailed": 0,
        "nfiltered": 0,
        "npassed": 5
       },
       "tags": [],
       "type": "inv"
      },
      "testcases": []
     }
    },
    "e148e76327224cdb923ab226133fa973": {
     "model_module": "viewer",
     "model_name": "TestSummarizerModel",
     "state": {
      "_dom_classes": [],
      "_model_module": "viewer",
      "_model_module_version": "^0.1.0",
      "_model_name": "TestSummarizerModel",
      "_view_count": null,
      "_view_module": "viewer",
      "_view_module_version": "^0.1.0",
      "_view_name": "TestSummarizerView",
      "layout": "IPY_MODEL_a25b3666d33b46b7b1d5ff8ac0b9bed6",
      "stats": {
       "nfailed": 0,
       "nfiltered": 0,
       "npassed": 1
      },
      "summarizer": {
       "capability": "None",
       "description": " ",
       "name": "original dataset",
       "stats": {
        "nfailed": 0,
        "nfiltered": 0,
        "npassed": 1
       },
       "tags": [],
       "type": "mft"
      },
      "testcases": []
     }
    },
    "f2fbfd9b550c48238a7a426eb2587f41": {
     "model_module": "viewer",
     "model_name": "TestSummarizerModel",
     "state": {
      "_dom_classes": [],
      "_model_module": "viewer",
      "_model_module_version": "^0.1.0",
      "_model_name": "TestSummarizerModel",
      "_view_count": null,
      "_view_module": "viewer",
      "_view_module_version": "^0.1.0",
      "_view_name": "TestSummarizerView",
      "layout": "IPY_MODEL_27c7e05be04f4ec0881102e7318d00ee",
      "stats": {
       "nfailed": 0,
       "nfiltered": 0,
       "npassed": 5
      },
      "summarizer": {
       "capability": "None",
       "description": " data aug with switch",
       "name": "switch",
       "stats": {
        "nfailed": 0,
        "nfiltered": 0,
        "npassed": 5
       },
       "tags": [],
       "type": "mft"
      },
      "testcases": []
     }
    }
   }
  }
 },
 "nbformat": 4,
 "nbformat_minor": 1
}
