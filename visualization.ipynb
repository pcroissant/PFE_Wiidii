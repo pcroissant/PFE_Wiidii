{
 "cells": [
  {
   "cell_type": "markdown",
   "metadata": {},
   "source": [
    "# Import and initialization"
   ]
  },
  {
   "cell_type": "code",
   "execution_count": 7,
   "metadata": {},
   "outputs": [],
   "source": [
    "import json\n",
    "import numpy as np"
   ]
  },
  {
   "cell_type": "code",
   "execution_count": 8,
   "metadata": {},
   "outputs": [],
   "source": [
    "from sklearn.metrics import classification_report, confusion_matrix, f1_score, precision_score, recall_score\n",
    "from sklearn.svm import SVC"
   ]
  },
  {
   "cell_type": "code",
   "execution_count": 9,
   "metadata": {},
   "outputs": [],
   "source": [
    "from checklist.test_suite import TestSuite"
   ]
  },
  {
   "cell_type": "code",
   "execution_count": 22,
   "metadata": {},
   "outputs": [],
   "source": [
    "INTENTS = [\n",
    "    'book-appointment',\n",
    "    'book-hotel',\n",
    "    'book-restaurant',\n",
    "    'change-appointment',\n",
    "    'change-car-rental',\n",
    "    'change-driver',\n",
    "    'change-hotel',\n",
    "    'change-reminder',\n",
    "    'change-restaurant',\n",
    "    'contact-provider',\n",
    "    'context',\n",
    "    'find-Property',\n",
    "    'find-Recipe',\n",
    "    'find-Trip',\n",
    "    'find-activity',\n",
    "    'find-around-me',\n",
    "    'find-car-rental',\n",
    "    'find-driver',\n",
    "    'find-flight',\n",
    "    'find-hotel',\n",
    "    'find-information',\n",
    "    'find-itinerary',\n",
    "    'find-restaurant',\n",
    "    'find-train',\n",
    "    'inform',\n",
    "    'irrelevant',\n",
    "    'other',\n",
    "    'provide-agenda',\n",
    "    'provide-news',\n",
    "    'provide-showtimes',\n",
    "    'provide-translation',\n",
    "    'provide-tv-guide',\n",
    "    'provide-weather',\n",
    "    'purchase',\n",
    "    'set-reminder',\n",
    "    'smalltalk',\n",
    "    'unsupported',\n",
    "]\n",
    "\n",
    "INTENTS_REDUCT = [\n",
    "    'find-around-me',\n",
    "    'find-flight',\n",
    "    'find-hotel',\n",
    "    'find-restaurant',\n",
    "    'find-train',\n",
    "    'irrelevant',\n",
    "    'provide-showtimes',\n",
    "    'purchase',\n",
    "]"
   ]
  },
  {
   "source": [
    "# Load the test suite"
   ],
   "cell_type": "markdown",
   "metadata": {}
  },
  {
   "cell_type": "code",
   "execution_count": 235,
   "metadata": {},
   "outputs": [
    {
     "output_type": "execute_result",
     "data": {
      "text/plain": [
       "OrderedDict([('MFT original', <checklist.test_types.MFT at 0x7fda3dfb1668>),\n",
       "             ('MFT keyboard_augmentation',\n",
       "              <checklist.test_types.MFT at 0x7fda3c1fde10>),\n",
       "             ('INV keyboard_augmentation',\n",
       "              <checklist.test_types.INV at 0x7fda3b92d240>),\n",
       "             ('MFT letter_augmentation',\n",
       "              <checklist.test_types.MFT at 0x7fda3c146e48>),\n",
       "             ('INV letter_augmentation',\n",
       "              <checklist.test_types.INV at 0x7fda38e64b00>),\n",
       "             ('MFT letter_deletion',\n",
       "              <checklist.test_types.MFT at 0x7fda3e8ad5f8>),\n",
       "             ('INV letter_deletion',\n",
       "              <checklist.test_types.INV at 0x7fda392ed5f8>),\n",
       "             ('MFT letter_swap', <checklist.test_types.MFT at 0x7fda3bae77f0>),\n",
       "             ('INV letter_swap', <checklist.test_types.INV at 0x7fda3b40d7f0>),\n",
       "             ('MFT bert_swap', <checklist.test_types.MFT at 0x7fda39ee1e80>),\n",
       "             ('INV bert_swap', <checklist.test_types.INV at 0x7fda39ee1f60>)])"
      ]
     },
     "metadata": {},
     "execution_count": 235
    }
   ],
   "source": [
    "suite = TestSuite.from_file(\"testsuite/suite_force1.pkl\")\n",
    "suite.tests"
   ]
  },
  {
   "cell_type": "code",
   "execution_count": 236,
   "metadata": {
    "tags": []
   },
   "outputs": [
    {
     "output_type": "stream",
     "name": "stdout",
     "text": [
      "Types of augmentation : ['keyboard_augmentation', 'letter_augmentation', 'letter_deletion', 'letter_swap', 'bert_swap']\n"
     ]
    }
   ],
   "source": [
    "types_test = list(suite.tests.keys())\n",
    "types_test.remove(\"MFT original\")\n",
    "types_aug = [type_test[4:] for type_test in types_test if type_test[:3]=='MFT']\n",
    "print(f'Types of augmentation : {types_aug}')"
   ]
  },
  {
   "cell_type": "markdown",
   "metadata": {},
   "source": [
    "# Visuals"
   ]
  },
  {
   "cell_type": "code",
   "execution_count": 1,
   "metadata": {},
   "outputs": [],
   "source": [
    "def visualize_MFT(type_aug):\n",
    "    test_mft = suite.tests.get(f'MFT {type_aug}')\n",
    "    y_true = [INTENTS[label] for label in test_mft.labels]\n",
    "    y_pred_aug = [INTENTS[pred] for pred in test_mft.results.get('preds')]\n",
    "\n",
    "    print(f\"\\n ------------------- {test_mft.name} ----------------\\n\")\n",
    "    print(classification_report(y_true=y_true, y_pred=y_pred_aug))\n",
    "    print(\"\\n-- Confusion matrix -- \\n\")\n",
    "    print(confusion_matrix(y_true=y_true,y_pred=y_pred_aug, normalize='true', labels=INTENTS_REDUCT))\n",
    "    print()\n",
    "\n",
    "def visualize_INV(type_aug):\n",
    "    y_true = suite.tests.get(f'MFT {type_aug}').labels\n",
    "    test_inv = suite.tests.get(f'INV {type_aug}')\n",
    "    passed = test_inv.results.get(\"passed\")\n",
    "    index_non_passed = [ i for i in range(len(passed)) if passed[i]==False]\n",
    "    y_true_non_passed = [INTENTS[y_true[i]] for i in index_non_passed]\n",
    "    y_pred_non_passed = [INTENTS[test_inv.results.get('preds')[i][1]] for i in index_non_passed]\n",
    "    nb_original_good = len([i for i in index_non_passed \n",
    "                                 if test_inv.results.get('preds')[i][0] == y_true[i]])\n",
    "\n",
    "    print(f\" ------------------- {test_inv.name} ----------------\\n\")\n",
    "    print(f\"Fail rate : {len(index_non_passed)/len(test_inv.data)*100:0.2f}%\")\n",
    "    print(f\"Correct original prediction rate : {nb_original_good/len(test_inv.data)*100:0.2f}%\")\n",
    "    print(\"Confusion matrix on non passed samples - line : true label - column : pred on aug \\n\")\n",
    "    print(confusion_matrix(y_true=y_true_non_passed, y_pred=y_pred_non_passed, labels=INTENTS_REDUCT))\n",
    "    print(\"\\n\\n\")"
   ]
  },
  {
   "cell_type": "code",
   "execution_count": 238,
   "metadata": {},
   "outputs": [
    {
     "output_type": "stream",
     "name": "stdout",
     "text": [
      "keyboard_augmentation\n\nMFT keyboard_augmentation\nTest cases:      5\nFails (rate):    1 (20.0%)\n\nExample fails:\n25 (0.0) Connais - tu un resYaurant réputé pour le caviar à Las Vegas?\n----\n\n\nINV keyboard_augmentation\nTest cases:      5\nFails (rate):    1 (20.0%)\n\nExample fails:\n22 (1.0) Connais-tu un restaurant réputé pour le caviar à Las Vegas ?\n25 (0.0) Connais - tu un resYaurant réputé pour le caviar à Las Vegas?\n\n----\n\n\n\n\nbert_swap\n\nMFT bert_swap\nTest cases:      5\nFails (rate):    0 (0.0%)\n\n\nINV bert_swap\nTest cases:      5\nFails (rate):    0 (0.0%)\n\n\n\n\nletter_deletion\n\nMFT letter_deletion\nTest cases:      5\nFails (rate):    0 (0.0%)\n\n\nINV letter_deletion\nTest cases:      5\nFails (rate):    0 (0.0%)\n\n\n\n\nletter_swap\n\nMFT letter_swap\nTest cases:      5\nFails (rate):    0 (0.0%)\n\n\nINV letter_swap\nTest cases:      5\nFails (rate):    0 (0.0%)\n\n\n\n\noriginal\n\nMFT original\nTest cases:      5\nFails (rate):    0 (0.0%)\n\n\n\n\nletter_augmentation\n\nMFT letter_augmentation\nTest cases:      5\nFails (rate):    0 (0.0%)\n\n\nINV letter_augmentation\nTest cases:      5\nFails (rate):    0 (0.0%)\n\n\n\n\n"
     ]
    }
   ],
   "source": [
    "suite.summary()"
   ]
  },
  {
   "cell_type": "code",
   "execution_count": 221,
   "metadata": {},
   "outputs": [
    {
     "output_type": "stream",
     "name": "stdout",
     "text": [
      "Please wait as we prepare the table data...\n"
     ]
    },
    {
     "output_type": "display_data",
     "data": {
      "text/plain": "SuiteSummarizer(stats={'npassed': 0, 'nfailed': 0, 'nfiltered': 0}, test_infos=[{'name': 'MFT letter_deletion'…",
      "application/vnd.jupyter.widget-view+json": {
       "version_major": 2,
       "version_minor": 0,
       "model_id": "cea6cdb8c78c43c2b483587a46419ab9"
      }
     },
     "metadata": {}
    }
   ],
   "source": [
    "suite.visual_summary_table()"
   ]
  },
  {
   "cell_type": "code",
   "execution_count": 246,
   "metadata": {},
   "outputs": [
    {
     "output_type": "stream",
     "name": "stdout",
     "text": [
      " =============================== keyboard_augmentation ====================================== \n",
      "\n",
      "\n",
      " ------------------- MFT keyboard_augmentation ----------------\n",
      "\n",
      "                 precision    recall  f1-score   support\n",
      "\n",
      "find-restaurant       0.00      0.00      0.00         1\n",
      "     irrelevant       0.80      1.00      0.89         4\n",
      "\n",
      "       accuracy                           0.80         5\n",
      "      macro avg       0.40      0.50      0.44         5\n",
      "   weighted avg       0.64      0.80      0.71         5\n",
      "\n",
      "\n",
      "-- Confusion matrix -- \n",
      "\n",
      "[[0. 0. 0. 0. 0. 0. 0. 0.]\n",
      " [0. 0. 0. 0. 0. 0. 0. 0.]\n",
      " [0. 0. 0. 0. 0. 0. 0. 0.]\n",
      " [0. 0. 0. 0. 0. 1. 0. 0.]\n",
      " [0. 0. 0. 0. 0. 0. 0. 0.]\n",
      " [0. 0. 0. 0. 0. 1. 0. 0.]\n",
      " [0. 0. 0. 0. 0. 0. 0. 0.]\n",
      " [0. 0. 0. 0. 0. 0. 0. 0.]]\n",
      "\n",
      " ------------------- INV keyboard_augmentation ----------------\n",
      "\n",
      "Fail rate : 20.00%\n",
      "Correct original prediction rate : 20.00%\n",
      "Confusion matrix on non passed samples - line : true label - column : pred on aug \n",
      "\n",
      "[[0 0 0 0 0 0 0 0]\n",
      " [0 0 0 0 0 0 0 0]\n",
      " [0 0 0 0 0 0 0 0]\n",
      " [0 0 0 0 0 1 0 0]\n",
      " [0 0 0 0 0 0 0 0]\n",
      " [0 0 0 0 0 0 0 0]\n",
      " [0 0 0 0 0 0 0 0]\n",
      " [0 0 0 0 0 0 0 0]]\n",
      "\n",
      "\n",
      "\n",
      " =============================== letter_augmentation ====================================== \n",
      "\n",
      "\n",
      " ------------------- MFT letter_augmentation ----------------\n",
      "\n",
      "                 precision    recall  f1-score   support\n",
      "\n",
      "find-restaurant       1.00      1.00      1.00         1\n",
      "     irrelevant       1.00      1.00      1.00         4\n",
      "\n",
      "       accuracy                           1.00         5\n",
      "      macro avg       1.00      1.00      1.00         5\n",
      "   weighted avg       1.00      1.00      1.00         5\n",
      "\n",
      "\n",
      "-- Confusion matrix -- \n",
      "\n",
      "[[0. 0. 0. 0. 0. 0. 0. 0.]\n",
      " [0. 0. 0. 0. 0. 0. 0. 0.]\n",
      " [0. 0. 0. 0. 0. 0. 0. 0.]\n",
      " [0. 0. 0. 1. 0. 0. 0. 0.]\n",
      " [0. 0. 0. 0. 0. 0. 0. 0.]\n",
      " [0. 0. 0. 0. 0. 1. 0. 0.]\n",
      " [0. 0. 0. 0. 0. 0. 0. 0.]\n",
      " [0. 0. 0. 0. 0. 0. 0. 0.]]\n",
      "\n",
      " ------------------- INV letter_augmentation ----------------\n",
      "\n",
      "Fail rate : 0.00%\n",
      "Correct original prediction rate : 0.00%\n",
      "Confusion matrix on non passed samples - line : true label - column : pred on aug \n",
      "\n",
      "[[0 0 0 0 0 0 0 0]\n",
      " [0 0 0 0 0 0 0 0]\n",
      " [0 0 0 0 0 0 0 0]\n",
      " [0 0 0 0 0 0 0 0]\n",
      " [0 0 0 0 0 0 0 0]\n",
      " [0 0 0 0 0 0 0 0]\n",
      " [0 0 0 0 0 0 0 0]\n",
      " [0 0 0 0 0 0 0 0]]\n",
      "\n",
      "\n",
      "\n",
      " =============================== letter_deletion ====================================== \n",
      "\n",
      "\n",
      " ------------------- MFT letter_deletion ----------------\n",
      "\n",
      "                 precision    recall  f1-score   support\n",
      "\n",
      "find-restaurant       1.00      1.00      1.00         1\n",
      "     irrelevant       1.00      1.00      1.00         4\n",
      "\n",
      "       accuracy                           1.00         5\n",
      "      macro avg       1.00      1.00      1.00         5\n",
      "   weighted avg       1.00      1.00      1.00         5\n",
      "\n",
      "\n",
      "-- Confusion matrix -- \n",
      "\n",
      "[[0. 0. 0. 0. 0. 0. 0. 0.]\n",
      " [0. 0. 0. 0. 0. 0. 0. 0.]\n",
      " [0. 0. 0. 0. 0. 0. 0. 0.]\n",
      " [0. 0. 0. 1. 0. 0. 0. 0.]\n",
      " [0. 0. 0. 0. 0. 0. 0. 0.]\n",
      " [0. 0. 0. 0. 0. 1. 0. 0.]\n",
      " [0. 0. 0. 0. 0. 0. 0. 0.]\n",
      " [0. 0. 0. 0. 0. 0. 0. 0.]]\n",
      "\n",
      " ------------------- INV letter_deletion ----------------\n",
      "\n",
      "Fail rate : 0.00%\n",
      "Correct original prediction rate : 0.00%\n",
      "Confusion matrix on non passed samples - line : true label - column : pred on aug \n",
      "\n",
      "[[0 0 0 0 0 0 0 0]\n",
      " [0 0 0 0 0 0 0 0]\n",
      " [0 0 0 0 0 0 0 0]\n",
      " [0 0 0 0 0 0 0 0]\n",
      " [0 0 0 0 0 0 0 0]\n",
      " [0 0 0 0 0 0 0 0]\n",
      " [0 0 0 0 0 0 0 0]\n",
      " [0 0 0 0 0 0 0 0]]\n",
      "\n",
      "\n",
      "\n",
      " =============================== letter_swap ====================================== \n",
      "\n",
      "\n",
      " ------------------- MFT letter_swap ----------------\n",
      "\n",
      "                 precision    recall  f1-score   support\n",
      "\n",
      "find-restaurant       1.00      1.00      1.00         1\n",
      "     irrelevant       1.00      1.00      1.00         4\n",
      "\n",
      "       accuracy                           1.00         5\n",
      "      macro avg       1.00      1.00      1.00         5\n",
      "   weighted avg       1.00      1.00      1.00         5\n",
      "\n",
      "\n",
      "-- Confusion matrix -- \n",
      "\n",
      "[[0. 0. 0. 0. 0. 0. 0. 0.]\n",
      " [0. 0. 0. 0. 0. 0. 0. 0.]\n",
      " [0. 0. 0. 0. 0. 0. 0. 0.]\n",
      " [0. 0. 0. 1. 0. 0. 0. 0.]\n",
      " [0. 0. 0. 0. 0. 0. 0. 0.]\n",
      " [0. 0. 0. 0. 0. 1. 0. 0.]\n",
      " [0. 0. 0. 0. 0. 0. 0. 0.]\n",
      " [0. 0. 0. 0. 0. 0. 0. 0.]]\n",
      "\n",
      " ------------------- INV letter_swap ----------------\n",
      "\n",
      "Fail rate : 0.00%\n",
      "Correct original prediction rate : 0.00%\n",
      "Confusion matrix on non passed samples - line : true label - column : pred on aug \n",
      "\n",
      "[[0 0 0 0 0 0 0 0]\n",
      " [0 0 0 0 0 0 0 0]\n",
      " [0 0 0 0 0 0 0 0]\n",
      " [0 0 0 0 0 0 0 0]\n",
      " [0 0 0 0 0 0 0 0]\n",
      " [0 0 0 0 0 0 0 0]\n",
      " [0 0 0 0 0 0 0 0]\n",
      " [0 0 0 0 0 0 0 0]]\n",
      "\n",
      "\n",
      "\n",
      " =============================== bert_swap ====================================== \n",
      "\n",
      "\n",
      " ------------------- MFT bert_swap ----------------\n",
      "\n",
      "                 precision    recall  f1-score   support\n",
      "\n",
      "find-restaurant       1.00      1.00      1.00         1\n",
      "     irrelevant       1.00      1.00      1.00         4\n",
      "\n",
      "       accuracy                           1.00         5\n",
      "      macro avg       1.00      1.00      1.00         5\n",
      "   weighted avg       1.00      1.00      1.00         5\n",
      "\n",
      "\n",
      "-- Confusion matrix -- \n",
      "\n",
      "[[0. 0. 0. 0. 0. 0. 0. 0.]\n",
      " [0. 0. 0. 0. 0. 0. 0. 0.]\n",
      " [0. 0. 0. 0. 0. 0. 0. 0.]\n",
      " [0. 0. 0. 1. 0. 0. 0. 0.]\n",
      " [0. 0. 0. 0. 0. 0. 0. 0.]\n",
      " [0. 0. 0. 0. 0. 1. 0. 0.]\n",
      " [0. 0. 0. 0. 0. 0. 0. 0.]\n",
      " [0. 0. 0. 0. 0. 0. 0. 0.]]\n",
      "\n",
      " ------------------- INV bert_swap ----------------\n",
      "\n",
      "Fail rate : 0.00%\n",
      "Correct original prediction rate : 0.00%\n",
      "Confusion matrix on non passed samples - line : true label - column : pred on aug \n",
      "\n",
      "[[0 0 0 0 0 0 0 0]\n",
      " [0 0 0 0 0 0 0 0]\n",
      " [0 0 0 0 0 0 0 0]\n",
      " [0 0 0 0 0 0 0 0]\n",
      " [0 0 0 0 0 0 0 0]\n",
      " [0 0 0 0 0 0 0 0]\n",
      " [0 0 0 0 0 0 0 0]\n",
      " [0 0 0 0 0 0 0 0]]\n",
      "\n",
      "\n",
      "\n"
     ]
    }
   ],
   "source": [
    "#visualize_MFT(type_aug=\"original\")\n",
    "for type_aug in types_aug :\n",
    "    print(f\" =============================== {type_aug} ====================================== \\n\")\n",
    "    visualize_MFT(type_aug=type_aug)\n",
    "    visualize_INV(type_aug=type_aug)"
   ]
  },
  {
   "cell_type": "code",
   "execution_count": null,
   "metadata": {},
   "outputs": [],
   "source": []
  }
 ],
 "metadata": {
  "kernelspec": {
   "display_name": "Python 3",
   "language": "python",
   "name": "python3"
  },
  "language_info": {
   "codemirror_mode": {
    "name": "ipython",
    "version": 3
   },
   "file_extension": ".py",
   "mimetype": "text/x-python",
   "name": "python",
   "nbconvert_exporter": "python",
   "pygments_lexer": "ipython3",
   "version": "3.6.9-final"
  }
 },
 "nbformat": 4,
 "nbformat_minor": 2
}