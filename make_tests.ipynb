{
 "metadata": {
  "language_info": {
   "codemirror_mode": {
    "name": "ipython",
    "version": 3
   },
   "file_extension": ".py",
   "mimetype": "text/x-python",
   "name": "python",
   "nbconvert_exporter": "python",
   "pygments_lexer": "ipython3",
   "version": "3.6.9-final"
  },
  "orig_nbformat": 2,
  "kernelspec": {
   "name": "python3",
   "display_name": "Python 3.6.9 64-bit ('venv')",
   "metadata": {
    "interpreter": {
     "hash": "60b31d52e36682f3ac805d5afad07f0d481655586d989b20402b1061714181bc"
    }
   }
  }
 },
 "nbformat": 4,
 "nbformat_minor": 2,
 "cells": [
  {
   "source": [
    "# Import and initialization"
   ],
   "cell_type": "markdown",
   "metadata": {}
  },
  {
   "cell_type": "code",
   "execution_count": 1,
   "metadata": {},
   "outputs": [],
   "source": [
    "import json\n",
    "import os\n",
    "import random\n",
    "import requests\n",
    "import numpy as np\n",
    "\n",
    "from datetime import datetime"
   ]
  },
  {
   "cell_type": "code",
   "execution_count": 2,
   "metadata": {},
   "outputs": [],
   "source": [
    "from checklist.test_suite import TestSuite\n",
    "from checklist.test_types import MFT, INV, DIR"
   ]
  },
  {
   "cell_type": "code",
   "execution_count": 3,
   "metadata": {},
   "outputs": [],
   "source": [
    "INTENTS = [\n",
    "    'book-appointment',\n",
    "    'book-hotel',\n",
    "    'book-restaurant',\n",
    "    'change-appointment',\n",
    "    'change-car-rental',\n",
    "    'change-driver',\n",
    "    'change-hotel',\n",
    "    'change-reminder',\n",
    "    'change-restaurant',\n",
    "    'contact-provider',\n",
    "    'context',\n",
    "    'find-Property',\n",
    "    'find-Recipe',\n",
    "    'find-Trip',\n",
    "    'find-activity',\n",
    "    'find-around-me',\n",
    "    'find-car-rental',\n",
    "    'find-driver',\n",
    "    'find-flight',\n",
    "    'find-hotel',\n",
    "    'find-information',\n",
    "    'find-itinerary',\n",
    "    'find-restaurant',\n",
    "    'find-train',\n",
    "    'inform',\n",
    "    'irrelevant',\n",
    "    'other',\n",
    "    'provide-agenda',\n",
    "    'provide-news',\n",
    "    'provide-showtimes',\n",
    "    'provide-translation',\n",
    "    'provide-tv-guide',\n",
    "    'provide-weather',\n",
    "    'purchase',\n",
    "    'set-reminder',\n",
    "    'smalltalk',\n",
    "    'unsupported',\n",
    "]\n",
    "\n",
    "INTENTS_REDUCT = [\n",
    "    'find-around-me',\n",
    "    'find-flight',\n",
    "    'find-hotel',\n",
    "    'find-restaurant',\n",
    "    'find-train',\n",
    "    'irrelevant',\n",
    "    'provide-showtimes',\n",
    "    'purchase',\n",
    "]"
   ]
  },
  {
   "source": [
    "# Tests creation"
   ],
   "cell_type": "markdown",
   "metadata": {}
  },
  {
   "cell_type": "code",
   "execution_count": 4,
   "metadata": {},
   "outputs": [],
   "source": [
    "FORCE = 1"
   ]
  },
  {
   "cell_type": "code",
   "execution_count": 16,
   "metadata": {},
   "outputs": [],
   "source": [
    "with open('data/dataset_final.json', \"r\") as f: #TODO: adapt to the new name, for example for forces\n",
    "    data = json.load(f)\n",
    "random.shuffle(data)"
   ]
  },
  {
   "cell_type": "code",
   "execution_count": 6,
   "metadata": {},
   "outputs": [
    {
     "output_type": "stream",
     "name": "stdout",
     "text": [
      "Types of augmentation : ['keyboard_augmentation', 'letter_augmentation', 'letter_deletion', 'letter_swap', 'bert_swap']\n"
     ]
    }
   ],
   "source": [
    "types_aug = list(data[0].keys())\n",
    "types_aug.remove('intent')\n",
    "types_aug.remove('sentence')\n",
    "print(f'Types of augmentation : {types_aug}')"
   ]
  },
  {
   "cell_type": "code",
   "execution_count": 7,
   "metadata": {},
   "outputs": [],
   "source": [
    "def create_tests_aug(type_aug):\n",
    "    data_aug = { \"data\": [elem.get(type_aug) for elem in data],\n",
    "                 \"labels\": [INTENTS.index(elem.get(\"intent\")) for elem in data]}\n",
    "    assert(data_aug.get('data')[0] != None)\n",
    "    \n",
    "    # MFT tests\n",
    "    test_MFT_aug = MFT(**data_aug, name=f\"MFT {type_aug}\", capability=type_aug, description=\"\")\n",
    "\n",
    "    # INV test\n",
    "    sentences_original = data_original.get(\"data\")\n",
    "    sentences_aug = data_aug.get(\"data\")\n",
    "    t = { \"data\": [[sentences_original[i], sentences_aug[i]] for i in range(len(sentences_original))]}\n",
    "    test_INV_aug = INV(**t, name=f\"INV {type_aug}\", capability=type_aug, description=\"\")\n",
    "\n",
    "    suite.add(test_MFT_aug, overwrite=True)\n",
    "    suite.add(test_INV_aug, overwrite=True)"
   ]
  },
  {
   "cell_type": "code",
   "execution_count": 8,
   "metadata": {},
   "outputs": [],
   "source": [
    "suite = TestSuite()"
   ]
  },
  {
   "cell_type": "code",
   "execution_count": 9,
   "metadata": {},
   "outputs": [],
   "source": [
    "data_original = { \"data\": [elem.get('sentence') for elem in data],\n",
    "                \"labels\": [INTENTS.index(elem.get(\"intent\")) for elem in data]}\n",
    "test_MFT_original = MFT(**data_original, name='MFT original', capability='original', description='')\n",
    "suite.add(test_MFT_original)"
   ]
  },
  {
   "cell_type": "code",
   "execution_count": 10,
   "metadata": {},
   "outputs": [],
   "source": [
    "for type_aug in types_aug :\n",
    "    create_tests_aug(type_aug=type_aug)"
   ]
  },
  {
   "source": [
    "# Tests running"
   ],
   "cell_type": "markdown",
   "metadata": {}
  },
  {
   "cell_type": "code",
   "execution_count": 11,
   "metadata": {},
   "outputs": [],
   "source": [
    "def get_classif(classification):\n",
    "    value = INTENTS.index(max(classification, key=classification.get))\n",
    "    if value not in [15, 18, 19, 22, 23, 25, 29, 33] :\n",
    "        value = 25\n",
    "    return value\n",
    "\n",
    "def get_softmax(classification):\n",
    "    return [c/100 for c in classification.values()]\n",
    "\n",
    "\n",
    "def get_classification(sentences):\n",
    "    URL = \"http://teaching-pfe.francecentral.azurecontainer.io/api/classification\"  \n",
    "    LANG = \"fr-FR\"\n",
    "    classifs = [requests.get(f\"{URL}?iso_language={LANG}&sentence={sentence}\").json().get(\"classification\") for sentence in sentences]\n",
    "    return (np.array([get_classif(c) for c in classifs]), np.array([get_softmax(c) for c in classifs]))"
   ]
  },
  {
   "cell_type": "code",
   "execution_count": 12,
   "metadata": {},
   "outputs": [
    {
     "output_type": "execute_result",
     "data": {
      "text/plain": [
       "OrderedDict([('MFT original', <checklist.test_types.MFT at 0x7f3e37ba73c8>),\n",
       "             ('MFT keyboard_augmentation',\n",
       "              <checklist.test_types.MFT at 0x7f3e37c1e828>),\n",
       "             ('INV keyboard_augmentation',\n",
       "              <checklist.test_types.INV at 0x7f3e37c1eb38>),\n",
       "             ('MFT letter_augmentation',\n",
       "              <checklist.test_types.MFT at 0x7f3e37c1ef60>),\n",
       "             ('INV letter_augmentation',\n",
       "              <checklist.test_types.INV at 0x7f3e589e2390>),\n",
       "             ('MFT letter_deletion',\n",
       "              <checklist.test_types.MFT at 0x7f3e37ba7080>),\n",
       "             ('INV letter_deletion',\n",
       "              <checklist.test_types.INV at 0x7f3e37ba7198>),\n",
       "             ('MFT letter_swap', <checklist.test_types.MFT at 0x7f3e37ba7278>),\n",
       "             ('INV letter_swap', <checklist.test_types.INV at 0x7f3e37ba7390>),\n",
       "             ('MFT bert_swap', <checklist.test_types.MFT at 0x7f3e37ba75c0>),\n",
       "             ('INV bert_swap', <checklist.test_types.INV at 0x7f3e37ba7518>)])"
      ]
     },
     "metadata": {},
     "execution_count": 12
    }
   ],
   "source": [
    "suite.tests"
   ]
  },
  {
   "cell_type": "code",
   "execution_count": 13,
   "metadata": {},
   "outputs": [
    {
     "output_type": "stream",
     "name": "stdout",
     "text": [
      "Started at 2021-01-15 16:44:47.802648 \n",
      "\n",
      "Running MFT original\n",
      "Predicting 2 examples\n",
      "Running MFT keyboard_augmentation\n",
      "Predicting 2 examples\n",
      "Running INV keyboard_augmentation\n",
      "Predicting 4 examples\n",
      "Running MFT letter_augmentation\n",
      "Predicting 2 examples\n",
      "Running INV letter_augmentation\n",
      "Predicting 4 examples\n",
      "Running MFT letter_deletion\n",
      "Predicting 2 examples\n",
      "Running INV letter_deletion\n",
      "Predicting 4 examples\n",
      "Running MFT letter_swap\n",
      "Predicting 2 examples\n",
      "Running INV letter_swap\n",
      "Predicting 4 examples\n",
      "Running MFT bert_swap\n",
      "Predicting 2 examples\n",
      "Running INV bert_swap\n",
      "Predicting 4 examples\n",
      "\n",
      "Execution time : 0:00:25.846769\n"
     ]
    }
   ],
   "source": [
    "start = datetime.now()\n",
    "print(f\"Started at {start} \\n\")\n",
    "\n",
    "suite.run(get_classification, overwrite=True)\n",
    "    \n",
    "end = datetime.now()\n",
    "print(f\"\\nExecution time : {end - start}\")"
   ]
  },
  {
   "cell_type": "code",
   "execution_count": 14,
   "metadata": {},
   "outputs": [
    {
     "output_type": "stream",
     "name": "stdout",
     "text": [
      "letter_augmentation\n\nMFT letter_augmentation\nTest cases:      2\nFails (rate):    0 (0.0%)\n\n\nINV letter_augmentation\nTest cases:      2\nFails (rate):    0 (0.0%)\n\n\n\n\nletter_swap\n\nMFT letter_swap\nTest cases:      2\nFails (rate):    0 (0.0%)\n\n\nINV letter_swap\nTest cases:      2\nFails (rate):    0 (0.0%)\n\n\n\n\noriginal\n\nMFT original\nTest cases:      2\nFails (rate):    0 (0.0%)\n\n\n\n\nletter_deletion\n\nMFT letter_deletion\nTest cases:      2\nFails (rate):    0 (0.0%)\n\n\nINV letter_deletion\nTest cases:      2\nFails (rate):    0 (0.0%)\n\n\n\n\nbert_swap\n\nMFT bert_swap\nTest cases:      2\nFails (rate):    0 (0.0%)\n\n\nINV bert_swap\nTest cases:      2\nFails (rate):    0 (0.0%)\n\n\n\n\nkeyboard_augmentation\n\nMFT keyboard_augmentation\nTest cases:      2\nFails (rate):    0 (0.0%)\n\n\nINV keyboard_augmentation\nTest cases:      2\nFails (rate):    0 (0.0%)\n\n\n\n\n"
     ]
    }
   ],
   "source": [
    "suite.summary()"
   ]
  },
  {
   "source": [
    "# Saving tests suite"
   ],
   "cell_type": "markdown",
   "metadata": {}
  },
  {
   "cell_type": "code",
   "execution_count": 15,
   "metadata": {},
   "outputs": [],
   "source": [
    "if not os.path.isdir(\"testsuite\") :\n",
    "    os.mkdir(\"testsuite\")\n",
    "suite.save(os.path.join(\"testsuite\", f\"suite_force{FORCE}.pkl\"))"
   ]
  }
 ]
}