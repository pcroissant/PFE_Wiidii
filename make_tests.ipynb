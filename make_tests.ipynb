{
 "metadata": {
  "language_info": {
   "codemirror_mode": {
    "name": "ipython",
    "version": 3
   },
   "file_extension": ".py",
   "mimetype": "text/x-python",
   "name": "python",
   "nbconvert_exporter": "python",
   "pygments_lexer": "ipython3",
   "version": "3.6.9-final"
  },
  "orig_nbformat": 2,
  "kernelspec": {
   "name": "python3",
   "display_name": "Python 3.6.9 64-bit ('venv')",
   "metadata": {
    "interpreter": {
     "hash": "60b31d52e36682f3ac805d5afad07f0d481655586d989b20402b1061714181bc"
    }
   }
  }
 },
 "nbformat": 4,
 "nbformat_minor": 2,
 "cells": [
  {
   "source": [
    "# Import and initialization"
   ],
   "cell_type": "markdown",
   "metadata": {}
  },
  {
   "cell_type": "code",
   "execution_count": 13,
   "metadata": {},
   "outputs": [],
   "source": [
    "import json\n",
    "import os\n",
    "import random\n",
    "import requests\n",
    "import numpy as np\n",
    "\n",
    "from datetime import datetime"
   ]
  },
  {
   "cell_type": "code",
   "execution_count": 14,
   "metadata": {},
   "outputs": [],
   "source": [
    "from checklist.test_suite import TestSuite\n",
    "from checklist.test_types import MFT, INV, DIR"
   ]
  },
  {
   "cell_type": "code",
   "execution_count": 15,
   "metadata": {},
   "outputs": [],
   "source": [
    "TYPES_AUG = [\"keyboard_aug\", \"letter_aug\", \"letter_del\"]"
   ]
  },
  {
   "cell_type": "code",
   "execution_count": 16,
   "metadata": {},
   "outputs": [],
   "source": [
    "INTENTS = [\n",
    "    'book-appointment',\n",
    "    'book-hotel',\n",
    "    'book-restaurant',\n",
    "    'change-appointment',\n",
    "    'change-car-rental',\n",
    "    'change-driver',\n",
    "    'change-hotel',\n",
    "    'change-reminder',\n",
    "    'change-restaurant',\n",
    "    'contact-provider',\n",
    "    'context',\n",
    "    'find-Property',\n",
    "    'find-Recipe',\n",
    "    'find-Trip',\n",
    "    'find-activity',\n",
    "    'find-around-me',\n",
    "    'find-car-rental',\n",
    "    'find-driver',\n",
    "    'find-flight',\n",
    "    'find-hotel',\n",
    "    'find-information',\n",
    "    'find-itinerary',\n",
    "    'find-restaurant',\n",
    "    'find-train',\n",
    "    'inform',\n",
    "    'irrelevant',\n",
    "    'other',\n",
    "    'provide-agenda',\n",
    "    'provide-news',\n",
    "    'provide-showtimes',\n",
    "    'provide-translation',\n",
    "    'provide-tv-guide',\n",
    "    'provide-weather',\n",
    "    'purchase',\n",
    "    'set-reminder',\n",
    "    'smalltalk',\n",
    "    'unsupported',\n",
    "]\n",
    "\n",
    "INTENTS_REDUCT = [\n",
    "    'find-around-me',\n",
    "    'find-flight',\n",
    "    'find-hotel',\n",
    "    'find-restaurant',\n",
    "    'find-train',\n",
    "    'irrelevant',\n",
    "    'provide-showtimes',\n",
    "    'purchase',\n",
    "]"
   ]
  },
  {
   "source": [
    "# Tests creation"
   ],
   "cell_type": "markdown",
   "metadata": {}
  },
  {
   "cell_type": "code",
   "execution_count": 33,
   "metadata": {},
   "outputs": [],
   "source": [
    "def load_data(type_aug, data_path=\"data\") :\n",
    "    with open(os.path.join(data_path, f'dataset_{type_aug}.json'), \"r\") as f:\n",
    "        data = json.load(f)\n",
    "\n",
    "    random.shuffle(data)\n",
    "    data_original = { \"data\": [elem.get(\"sentence\") for elem in data],\n",
    "                      \"labels\": [INTENTS.index(elem.get(\"intent\")) for elem in data]}\n",
    "    \n",
    "    data_aug = { \"data\": [elem.get(type_aug) for elem in data],\n",
    "                  \"labels\": [INTENTS.index(elem.get(\"intent\")) for elem in data]}\n",
    "    return(data_original, data_aug)\n"
   ]
  },
  {
   "cell_type": "code",
   "execution_count": 34,
   "metadata": {},
   "outputs": [],
   "source": [
    "def create_tests(type_aug):\n",
    "    data_original, data_aug = load_data(type_aug=type_aug)\n",
    "\n",
    "    # MFT tests\n",
    "    test_MFT_original = MFT(**data_original, name=f\"MFT original {type_aug}\", capability=type_aug, description=\"\")\n",
    "    test_MFT_aug = MFT(**data_aug, name=f\"MFT {type_aug}\", capability=type_aug, description=\"\")\n",
    "\n",
    "    # INV test\n",
    "    sentences_original = data_original.get(\"data\")\n",
    "    sentences_aug = data_aug.get(\"data\")\n",
    "    t = { \"data\": [[sentences_original[i], sentences_aug[i]] for i in range(len(sentences_original))]}\n",
    "    test_INV_aug = INV(**t, name=f\"INV {type_aug}\", capability=type_aug, description=\"\")\n",
    "\n",
    "    suite.add(test_MFT_original, overwrite=True)\n",
    "    suite.add(test_MFT_aug, overwrite=True)\n",
    "    suite.add(test_INV_aug, overwrite=True)"
   ]
  },
  {
   "cell_type": "code",
   "execution_count": 35,
   "metadata": {},
   "outputs": [],
   "source": [
    "suite = TestSuite()"
   ]
  },
  {
   "cell_type": "code",
   "execution_count": 36,
   "metadata": {},
   "outputs": [],
   "source": [
    "for type_aug in TYPES_AUG :\n",
    "    create_tests(type_aug=type_aug)"
   ]
  },
  {
   "source": [
    "# Tests running"
   ],
   "cell_type": "markdown",
   "metadata": {}
  },
  {
   "cell_type": "code",
   "execution_count": 37,
   "metadata": {},
   "outputs": [],
   "source": [
    "def get_classif(classification):\n",
    "    value = INTENTS.index(max(classification, key=classification.get))\n",
    "    if value not in [15, 18, 19, 22, 23, 25, 29, 33] :\n",
    "        value = 25\n",
    "    return value\n",
    "\n",
    "def get_softmax(classification):\n",
    "    return [c/100 for c in classification.values()]\n",
    "\n",
    "\n",
    "def get_classification(sentences):\n",
    "    URL = \"http://teaching-pfe.francecentral.azurecontainer.io/api/classification\"  \n",
    "    LANG = \"fr-FR\"\n",
    "    classifs = [requests.get(f\"{URL}?iso_language={LANG}&sentence={sentence}\").json().get(\"classification\") for sentence in sentences]\n",
    "    return (np.array([get_classif(c) for c in classifs]), np.array([get_softmax(c) for c in classifs]))"
   ]
  },
  {
   "cell_type": "code",
   "execution_count": 38,
   "metadata": {},
   "outputs": [
    {
     "output_type": "stream",
     "name": "stdout",
     "text": [
      "Started at 2021-01-08 23:56:24.498857 \n",
      "\n",
      "Running MFT original keyboard_aug\n",
      "Predicting 200 examples\n",
      "Running MFT keyboard_aug\n",
      "Predicting 200 examples\n",
      "Running INV keyboard_aug\n",
      "Predicting 400 examples\n",
      "Running MFT original letter_aug\n",
      "Predicting 200 examples\n",
      "Running MFT letter_aug\n",
      "Predicting 200 examples\n",
      "Running INV letter_aug\n",
      "Predicting 400 examples\n",
      "Running MFT original letter_del\n",
      "Predicting 200 examples\n",
      "Running MFT letter_del\n",
      "Predicting 200 examples\n",
      "Running INV letter_del\n",
      "Predicting 400 examples\n",
      "\n",
      "Execution time : 0:30:44.478617\n"
     ]
    }
   ],
   "source": [
    "start = datetime.now()\n",
    "print(f\"Started at {start} \\n\")\n",
    "\n",
    "suite.run(get_classification, overwrite=True)\n",
    "\n",
    "end = datetime.now()\n",
    "print(f\"\\nExecution time : {end - start}\")"
   ]
  },
  {
   "cell_type": "code",
   "execution_count": 39,
   "metadata": {},
   "outputs": [
    {
     "output_type": "stream",
     "name": "stdout",
     "text": [
      "letter_del\n\nMFT original letter_del\nTest cases:      200\nFails (rate):    0 (0.0%)\n\n\nMFT letter_del\nTest cases:      200\nFails (rate):    4 (2.0%)\n\nExample fails:\n25 (0.0) À quelle heure le premier trai arrivera-t-il demain matin à nantes ?\n----\n25 (0.0) passe comande sur amazon\n----\n25 (0.0) Coucou mon génie, tu as un esto a me conseiller sur oulan bator ?\n----\n\n\nINV letter_del\nTest cases:      200\nFails (rate):    3 (1.5%)\n\nExample fails:\n23 (1.0) À quelle heure le premier train arrivera-t-il demain matin à nantes ?\n25 (0.0) À quelle heure le premier trai arrivera-t-il demain matin à nantes ?\n\n----\n22 (1.0) Coucou mon génie, tu as un resto a me conseiller sur oulan bator ?\n25 (0.0) Coucou mon génie, tu as un esto a me conseiller sur oulan bator ?\n\n----\n22 (1.0) Conseille moi un restaurant tibétain\n25 (0.0) Conseille moi un retaurant tibétain\n\n----\n\n\n\n\nkeyboard_aug\n\nMFT original keyboard_aug\nTest cases:      200\nFails (rate):    1 (0.5%)\n\nExample fails:\n25 (0.4) j'ai besoin que tu me cherche un b&b pour le dernier weekend du mois à saint-petersbourg\n----\n\n\nMFT keyboard_aug\nTest cases:      200\nFails (rate):    6 (3.0%)\n\nExample fails:\n25 (0.0) trouve moi une chamHre d hôtel\n----\n25 (0.0) Trouve moi les plus belles NikZs de Size Bordeaux en ce moment\n----\n25 (0.0) Bien le bonjour! Je suis à la rechercbe d ' un ventilateur: )\n----\n\n\nINV keyboard_aug\nTest cases:      200\nFails (rate):    2 (1.0%)\n\nExample fails:\n19 (1.0) trouve moi une chambre d hôtel\n25 (0.0) trouve moi une chamHre d hôtel\n\n----\n25 (0.4) j'ai besoin que tu me cherche un b&b pour le dernier weekend du mois à saint-petersbourg\n33 (0.0) j ' ai brsoin que tu me cherche un b & b pour le dernier weekend du mois à saint - petersbourg\n\n----\n\n\n\n\nletter_aug\n\nMFT original letter_aug\nTest cases:      200\nFails (rate):    0 (0.0%)\n\n\nMFT letter_aug\nTest cases:      200\nFails (rate):    3 (1.5%)\n\nExample fails:\n25 (0.0) passe commandde sur amazon\n----\n25 (0.0) reestaurant couscous sans budget\n----\n33 (0.1) Je vais aller me coucher, donc tu peux prendre tous le teemps que tu souhaites! Bye\n----\n\n\nINV letter_aug\nTest cases:      200\nFails (rate):    1 (0.5%)\n\nExample fails:\n22 (1.0) restaurant couscous sans budget\n25 (0.0) reestaurant couscous sans budget\n\n----\n\n\n\n\n"
     ]
    }
   ],
   "source": [
    "suite.summary()"
   ]
  },
  {
   "source": [
    "# Saving tests suite"
   ],
   "cell_type": "markdown",
   "metadata": {}
  },
  {
   "cell_type": "code",
   "execution_count": 40,
   "metadata": {},
   "outputs": [],
   "source": [
    "if not os.path.isdir(\"testsuite\") :\n",
    "    os.mkdir(\"testsuite\")\n",
    "suite.save(os.path.join(\"testsuite\", \"suite.pkl\"))"
   ]
  }
 ]
}